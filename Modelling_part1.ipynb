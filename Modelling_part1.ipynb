{
  "nbformat": 4,
  "nbformat_minor": 0,
  "metadata": {
    "kernelspec": {
      "name": "python3",
      "display_name": "Python 3",
      "language": "python"
    },
    "language_info": {
      "name": "python",
      "version": "3.7.6",
      "mimetype": "text/x-python",
      "codemirror_mode": {
        "name": "ipython",
        "version": 3
      },
      "pygments_lexer": "ipython3",
      "nbconvert_exporter": "python",
      "file_extension": ".py"
    },
    "colab": {
      "name": "Modelling_part1.ipynb",
      "provenance": []
    }
  },
  "cells": [
    {
      "cell_type": "code",
      "metadata": {
        "trusted": true,
        "id": "-9BA0fX3hmka",
        "colab_type": "code",
        "colab": {}
      },
      "source": [
        "import numpy as np \n",
        "import pandas as pd\n",
        "\n",
        "import matplotlib.pyplot as plt\n",
        "%matplotlib inline\n",
        "import seaborn as sns\n",
        "import warnings\n",
        "warnings.filterwarnings('ignore')\n",
        "\n",
        "\n",
        "\n",
        "from sklearn import ensemble, metrics, model_selection\n",
        "import os\n",
        "\n",
        "\n",
        "\n",
        "from sklearn.utils import shuffle\n",
        "from sklearn.metrics import roc_auc_score, accuracy_score\n",
        "#!pip install transformers\n",
        "import transformers\n",
        "from transformers import BertTokenizer,AutoTokenizer, TFAutoModel,BertForSequenceClassification, TFBertModel\n",
        "from transformers import XLMRobertaTokenizer, XLMRobertaForSequenceClassification\n",
        "from transformers import AdamW\n",
        "\n",
        "import tensorflow as tf\n",
        "from tensorflow.keras.layers import Dense, Input\n",
        "from tensorflow.keras.models import Model\n",
        "from tensorflow.keras.optimizers import Adam\n",
        "\n",
        "import copy\n",
        "from sklearn.model_selection import train_test_split\n",
        "\n",
        "\n",
        "os.environ[\"WANDB_API_KEY\"] = \"0\" ## to silence the warning:wandb: WARNING W&B installed but not logged in.  Run `wandb login` or set the WANDB_API_KEY env variable."
      ],
      "execution_count": null,
      "outputs": []
    },
    {
      "cell_type": "code",
      "metadata": {
        "trusted": true,
        "id": "XsvcrIvHhmkd",
        "colab_type": "code",
        "colab": {}
      },
      "source": [
        "train_data = pd.read_csv(\"../input/contradictory-my-dear-watson/train.csv\")\n",
        "test_data = pd.read_csv(\"../input/contradictory-my-dear-watson/test.csv\")"
      ],
      "execution_count": null,
      "outputs": []
    },
    {
      "cell_type": "markdown",
      "metadata": {
        "id": "_JUzD-88hmkf",
        "colab_type": "text"
      },
      "source": [
        "# **Enabling and testing the TPU:**"
      ]
    },
    {
      "cell_type": "code",
      "metadata": {
        "trusted": true,
        "id": "TX6Soba4hmkg",
        "colab_type": "code",
        "colab": {}
      },
      "source": [
        "try:\n",
        "    tpu = tf.distribute.cluster_resolver.TPUClusterResolver()\n",
        "    tf.config.experimental_connect_to_cluster(tpu)\n",
        "    tf.tpu.experimental.initialize_tpu_system(tpu)\n",
        "    strategy = tf.distribute.experimental.TPUStrategy(tpu)\n",
        "except ValueError:\n",
        "    strategy = tf.distribute.get_strategy()"
      ],
      "execution_count": null,
      "outputs": []
    },
    {
      "cell_type": "markdown",
      "metadata": {
        "id": "2wOfM00_hmki",
        "colab_type": "text"
      },
      "source": [
        "# **Modelling:**"
      ]
    },
    {
      "cell_type": "markdown",
      "metadata": {
        "id": "ULxtQ6P7hmki",
        "colab_type": "text"
      },
      "source": [
        "# **XLM-RoBERTa Model: (Large)**"
      ]
    },
    {
      "cell_type": "markdown",
      "metadata": {
        "id": "3f1giWbIhmki",
        "colab_type": "text"
      },
      "source": [
        "**Defining Parameters to be used:**"
      ]
    },
    {
      "cell_type": "code",
      "metadata": {
        "trusted": true,
        "id": "q3_4Q3Q0hmkj",
        "colab_type": "code",
        "colab": {}
      },
      "source": [
        "BATCH_SIZE = 16 * strategy.num_replicas_in_sync\n",
        "AUTO = tf.data.experimental.AUTOTUNE\n",
        "step = len(train_data) // BATCH_SIZE"
      ],
      "execution_count": null,
      "outputs": []
    },
    {
      "cell_type": "markdown",
      "metadata": {
        "id": "t_GcUU2nhmkl",
        "colab_type": "text"
      },
      "source": [
        "Building The Model defination:"
      ]
    },
    {
      "cell_type": "code",
      "metadata": {
        "trusted": true,
        "id": "yVfmmA0bhmkl",
        "colab_type": "code",
        "colab": {}
      },
      "source": [
        "def model_defination(strategy,transformer):\n",
        "    with strategy.scope():\n",
        "        encoder = TFAutoModel.from_pretrained(transformer)\n",
        "        input_layer = Input(shape=(30,), dtype=tf.int32, name=\"input_layer\")\n",
        "        sequence_output = encoder(input_layer)[0]\n",
        "        cls_token = sequence_output[:, 0, :]\n",
        "        output_layer = Dense(3, activation='softmax')(cls_token)\n",
        "        model = Model(inputs=input_layer, outputs=output_layer)\n",
        "        model.compile(\n",
        "            Adam(lr=1e-5), \n",
        "            loss='sparse_categorical_crossentropy', \n",
        "            metrics=['accuracy']\n",
        "        )\n",
        "        return model"
      ],
      "execution_count": null,
      "outputs": []
    },
    {
      "cell_type": "code",
      "metadata": {
        "trusted": true,
        "id": "p0XHF22vhmkp",
        "colab_type": "code",
        "colab": {
          "referenced_widgets": [
            "e9454521858b4755ba5b03442b83856b",
            "fdb9f552f9d1434faa5b66720b3abdcd"
          ]
        },
        "outputId": "ab8cf617-4f3d-42bc-d6fc-d4efdc77a9b6"
      },
      "source": [
        "model=model_defination(strategy,\"jplu/tf-xlm-roberta-large\")"
      ],
      "execution_count": null,
      "outputs": [
        {
          "output_type": "display_data",
          "data": {
            "text/plain": [
              "HBox(children=(FloatProgress(value=0.0, description='Downloading', max=513.0, style=ProgressStyle(description_…"
            ],
            "application/vnd.jupyter.widget-view+json": {
              "version_major": 2,
              "version_minor": 0,
              "model_id": "e9454521858b4755ba5b03442b83856b"
            }
          },
          "metadata": {
            "tags": []
          }
        },
        {
          "output_type": "stream",
          "text": [
            "\n"
          ],
          "name": "stdout"
        },
        {
          "output_type": "display_data",
          "data": {
            "text/plain": [
              "HBox(children=(FloatProgress(value=0.0, description='Downloading', max=3271420488.0, style=ProgressStyle(descr…"
            ],
            "application/vnd.jupyter.widget-view+json": {
              "version_major": 2,
              "version_minor": 0,
              "model_id": "fdb9f552f9d1434faa5b66720b3abdcd"
            }
          },
          "metadata": {
            "tags": []
          }
        },
        {
          "output_type": "stream",
          "text": [
            "\n"
          ],
          "name": "stdout"
        }
      ]
    },
    {
      "cell_type": "code",
      "metadata": {
        "trusted": true,
        "id": "2eXwpucThmks",
        "colab_type": "code",
        "colab": {},
        "outputId": "f189a59a-6f89-4540-dc89-7613bc547e07"
      },
      "source": [
        "model.summary()"
      ],
      "execution_count": null,
      "outputs": [
        {
          "output_type": "stream",
          "text": [
            "Model: \"model\"\n",
            "_________________________________________________________________\n",
            "Layer (type)                 Output Shape              Param #   \n",
            "=================================================================\n",
            "input_layer (InputLayer)     [(None, 30)]              0         \n",
            "_________________________________________________________________\n",
            "tf_roberta_model (TFRobertaM ((None, 30, 1024), (None, 559890432 \n",
            "_________________________________________________________________\n",
            "tf_op_layer_strided_slice (T [(None, 1024)]            0         \n",
            "_________________________________________________________________\n",
            "dense (Dense)                (None, 3)                 3075      \n",
            "=================================================================\n",
            "Total params: 559,893,507\n",
            "Trainable params: 559,893,507\n",
            "Non-trainable params: 0\n",
            "_________________________________________________________________\n"
          ],
          "name": "stdout"
        }
      ]
    },
    {
      "cell_type": "markdown",
      "metadata": {
        "id": "TEea9qrzhmku",
        "colab_type": "text"
      },
      "source": [
        "**Tokenizing: With (xlm-roberta-large)**"
      ]
    },
    {
      "cell_type": "code",
      "metadata": {
        "trusted": true,
        "id": "axCXmcNjhmkv",
        "colab_type": "code",
        "colab": {
          "referenced_widgets": [
            "dfec7fc0f6bc432a8a047c49265a8a75"
          ]
        },
        "outputId": "63db0b9a-c42b-46eb-e272-c8e60356ed83"
      },
      "source": [
        "tokenizer = AutoTokenizer.from_pretrained('jplu/tf-xlm-roberta-large')"
      ],
      "execution_count": null,
      "outputs": [
        {
          "output_type": "display_data",
          "data": {
            "text/plain": [
              "HBox(children=(FloatProgress(value=0.0, description='Downloading', max=5069051.0, style=ProgressStyle(descript…"
            ],
            "application/vnd.jupyter.widget-view+json": {
              "version_major": 2,
              "version_minor": 0,
              "model_id": "dfec7fc0f6bc432a8a047c49265a8a75"
            }
          },
          "metadata": {
            "tags": []
          }
        },
        {
          "output_type": "stream",
          "text": [
            "\n"
          ],
          "name": "stdout"
        }
      ]
    },
    {
      "cell_type": "code",
      "metadata": {
        "trusted": true,
        "id": "8a8xioFEhmkw",
        "colab_type": "code",
        "colab": {}
      },
      "source": [
        "train_set = train_data[['premise','hypothesis']].values.tolist()\n",
        "test_set = test_data[['premise','hypothesis']].values.tolist()"
      ],
      "execution_count": null,
      "outputs": []
    },
    {
      "cell_type": "markdown",
      "metadata": {
        "id": "_vzymn64hmky",
        "colab_type": "text"
      },
      "source": [
        "**Encoding the Data:**"
      ]
    },
    {
      "cell_type": "code",
      "metadata": {
        "trusted": true,
        "id": "iJpM716Mhmkz",
        "colab_type": "code",
        "colab": {}
      },
      "source": [
        "encoded_train = tokenizer.batch_encode_plus(train_set, pad_to_max_length=True, max_length=30)\n",
        "encoded_test = tokenizer.batch_encode_plus(test_set, pad_to_max_length=True, max_length=30)"
      ],
      "execution_count": null,
      "outputs": []
    },
    {
      "cell_type": "markdown",
      "metadata": {
        "id": "Nyv51mbdhmk1",
        "colab_type": "text"
      },
      "source": [
        "Below example shows what the tokenizer has done to the first sentence at \"premise[0]\":"
      ]
    },
    {
      "cell_type": "code",
      "metadata": {
        "trusted": true,
        "id": "SMWB6iQkhmk1",
        "colab_type": "code",
        "colab": {},
        "outputId": "5bc313bd-b2ab-4a59-b5c8-2c684d22272c"
      },
      "source": [
        "train_data.premise.values[0]"
      ],
      "execution_count": null,
      "outputs": [
        {
          "output_type": "execute_result",
          "data": {
            "text/plain": [
              "'and these comments were considered in formulating the interim rules.'"
            ]
          },
          "metadata": {
            "tags": []
          },
          "execution_count": 12
        }
      ]
    },
    {
      "cell_type": "markdown",
      "metadata": {
        "id": "9r2Tmg7Phmk3",
        "colab_type": "text"
      },
      "source": [
        "Below is the few tokens from the above sentence:"
      ]
    },
    {
      "cell_type": "code",
      "metadata": {
        "trusted": true,
        "id": "Y7Dis_yihmk3",
        "colab_type": "code",
        "colab": {},
        "outputId": "a3a1c418-5ca2-4bf4-901a-e1aefb62de95"
      },
      "source": [
        "print(encoded_train.input_ids[0][0:30])"
      ],
      "execution_count": null,
      "outputs": [
        {
          "output_type": "stream",
          "text": [
            "[0, 136, 6097, 24626, 3542, 90698, 23, 26168, 1916, 70, 1940, 464, 91736, 5, 2, 2, 581, 91736, 126809, 23, 70, 1940, 464, 3542, 3884, 25842, 678, 6097, 24626, 2]\n"
          ],
          "name": "stdout"
        }
      ]
    },
    {
      "cell_type": "markdown",
      "metadata": {
        "id": "g0BkybUThmk5",
        "colab_type": "text"
      },
      "source": [
        "Below example shows what the tokenizer has done to the first sentence at \"hypothesis[0]\":"
      ]
    },
    {
      "cell_type": "code",
      "metadata": {
        "trusted": true,
        "id": "cfF3cSnNhmk6",
        "colab_type": "code",
        "colab": {},
        "outputId": "b4816fc3-2d4c-4c26-c2b1-704f41856f5e"
      },
      "source": [
        "train_data.hypothesis.values[0]"
      ],
      "execution_count": null,
      "outputs": [
        {
          "output_type": "execute_result",
          "data": {
            "text/plain": [
              "'The rules developed in the interim were put together with these comments in mind.'"
            ]
          },
          "metadata": {
            "tags": []
          },
          "execution_count": 14
        }
      ]
    },
    {
      "cell_type": "markdown",
      "metadata": {
        "id": "sVBWJjtChmk7",
        "colab_type": "text"
      },
      "source": [
        "Below are the token for the above sentence:"
      ]
    },
    {
      "cell_type": "code",
      "metadata": {
        "trusted": true,
        "id": "FtctJ7drhmk8",
        "colab_type": "code",
        "colab": {},
        "outputId": "52b33d11-1fa6-48e5-e2cc-dca4ec4b9173"
      },
      "source": [
        "print(encoded_train.input_ids[0][14:32])"
      ],
      "execution_count": null,
      "outputs": [
        {
          "output_type": "stream",
          "text": [
            "[2, 2, 581, 91736, 126809, 23, 70, 1940, 464, 3542, 3884, 25842, 678, 6097, 24626, 2]\n"
          ],
          "name": "stdout"
        }
      ]
    },
    {
      "cell_type": "code",
      "metadata": {
        "trusted": true,
        "id": "c7mwC0dfhmk-",
        "colab_type": "code",
        "colab": {},
        "outputId": "5caaaed0-77fc-4a8f-d4cf-50778db0597d"
      },
      "source": [
        "encoded_train.keys()"
      ],
      "execution_count": null,
      "outputs": [
        {
          "output_type": "execute_result",
          "data": {
            "text/plain": [
              "dict_keys(['input_ids', 'attention_mask'])"
            ]
          },
          "metadata": {
            "tags": []
          },
          "execution_count": 16
        }
      ]
    },
    {
      "cell_type": "code",
      "metadata": {
        "trusted": true,
        "id": "guXWOPPMhmk_",
        "colab_type": "code",
        "colab": {},
        "outputId": "1073f242-7f8f-47f4-ec08-b61cc2899a53"
      },
      "source": [
        "print(encoded_train.attention_mask[0][0:35])"
      ],
      "execution_count": null,
      "outputs": [
        {
          "output_type": "stream",
          "text": [
            "[1, 1, 1, 1, 1, 1, 1, 1, 1, 1, 1, 1, 1, 1, 1, 1, 1, 1, 1, 1, 1, 1, 1, 1, 1, 1, 1, 1, 1, 1]\n"
          ],
          "name": "stdout"
        }
      ]
    },
    {
      "cell_type": "markdown",
      "metadata": {
        "id": "L6scppD5hmlC",
        "colab_type": "text"
      },
      "source": [
        "**Train and Test Split:**"
      ]
    },
    {
      "cell_type": "code",
      "metadata": {
        "trusted": true,
        "id": "ZlvlPHduhmlD",
        "colab_type": "code",
        "colab": {}
      },
      "source": [
        "X_train, X_valid, Y_train, Y_valid = train_test_split(encoded_train['input_ids'], train_data.label.values, test_size=0.3)\n",
        "\n",
        "x_test = encoded_test['input_ids']"
      ],
      "execution_count": null,
      "outputs": []
    },
    {
      "cell_type": "markdown",
      "metadata": {
        "id": "MSS4ksTYhmlE",
        "colab_type": "text"
      },
      "source": [
        "**Pipeline:**"
      ]
    },
    {
      "cell_type": "code",
      "metadata": {
        "trusted": true,
        "id": "wDcPvHjThmlF",
        "colab_type": "code",
        "colab": {}
      },
      "source": [
        "train_df = (tf.data.Dataset.from_tensor_slices((X_train, Y_train)).repeat().shuffle(2048).batch(BATCH_SIZE).prefetch(AUTO))\n",
        "\n",
        "valid_df = (tf.data.Dataset.from_tensor_slices((X_valid, Y_valid)).batch(BATCH_SIZE).cache().prefetch(AUTO))\n",
        "\n",
        "test_df = (tf.data.Dataset.from_tensor_slices(x_test).batch(BATCH_SIZE))"
      ],
      "execution_count": null,
      "outputs": []
    },
    {
      "cell_type": "markdown",
      "metadata": {
        "id": "8BX6cWOfhmlG",
        "colab_type": "text"
      },
      "source": [
        "**Training the Model: at different Epoch values(3,5 and 10)**\n",
        "\n",
        "\n",
        "Where \"Epoch\" is one complete presentation of the whole dataset which is needed to be learned by the machine.\n",
        "The number of epochs represent the hyperparameter of \"Gradient Descent\" which controls the number of complete passes which the machine makes when it is passing through the training dataset."
      ]
    },
    {
      "cell_type": "code",
      "metadata": {
        "trusted": true,
        "id": "flqRZLt4hmlG",
        "colab_type": "code",
        "colab": {},
        "outputId": "ce4ec8ab-8fc6-4c57-9725-573ce2242221"
      },
      "source": [
        "#At epochs=3\n",
        "model_3 = model.fit(train_df,steps_per_epoch=step,validation_data=valid_df,epochs=3)"
      ],
      "execution_count": null,
      "outputs": [
        {
          "output_type": "stream",
          "text": [
            "Epoch 1/3\n",
            "94/94 [==============================] - 46s 492ms/step - loss: 1.1724 - accuracy: 0.3526 - val_loss: 1.0811 - val_accuracy: 0.4106\n",
            "Epoch 2/3\n",
            "94/94 [==============================] - 20s 217ms/step - loss: 0.9967 - accuracy: 0.4919 - val_loss: 0.8664 - val_accuracy: 0.6037\n",
            "Epoch 3/3\n",
            "94/94 [==============================] - 20s 216ms/step - loss: 0.7796 - accuracy: 0.6438 - val_loss: 0.7794 - val_accuracy: 0.6477\n"
          ],
          "name": "stdout"
        }
      ]
    },
    {
      "cell_type": "code",
      "metadata": {
        "trusted": true,
        "id": "yNhhOu0ShmlI",
        "colab_type": "code",
        "colab": {},
        "outputId": "0cb9431b-4dbe-4e53-9543-3b912a512a29"
      },
      "source": [
        "#At epochs=5\n",
        "model_5 = model.fit(train_df,steps_per_epoch=step,validation_data=valid_df,epochs=5)"
      ],
      "execution_count": null,
      "outputs": [
        {
          "output_type": "stream",
          "text": [
            "Epoch 1/5\n",
            "94/94 [==============================] - 21s 224ms/step - loss: 0.6073 - accuracy: 0.7403 - val_loss: 0.9319 - val_accuracy: 0.6587\n",
            "Epoch 2/5\n",
            "94/94 [==============================] - 21s 219ms/step - loss: 0.6441 - accuracy: 0.7060 - val_loss: 1.1268 - val_accuracy: 0.5740\n",
            "Epoch 3/5\n",
            "94/94 [==============================] - 21s 219ms/step - loss: 0.5366 - accuracy: 0.7650 - val_loss: 1.1082 - val_accuracy: 0.6430\n",
            "Epoch 4/5\n",
            "94/94 [==============================] - 20s 217ms/step - loss: 0.3412 - accuracy: 0.8643 - val_loss: 1.3353 - val_accuracy: 0.6447\n",
            "Epoch 5/5\n",
            "94/94 [==============================] - 20s 215ms/step - loss: 0.2208 - accuracy: 0.9168 - val_loss: 1.4055 - val_accuracy: 0.6570\n"
          ],
          "name": "stdout"
        }
      ]
    },
    {
      "cell_type": "code",
      "metadata": {
        "trusted": true,
        "id": "gSS3HgpQhmlK",
        "colab_type": "code",
        "colab": {},
        "outputId": "dff134de-871d-49ff-e9a0-f5bee673f47b"
      },
      "source": [
        "#At epochs=10\n",
        "model_10 = model.fit(train_df,steps_per_epoch=step,validation_data=valid_df,epochs=10)"
      ],
      "execution_count": null,
      "outputs": [
        {
          "output_type": "stream",
          "text": [
            "Epoch 1/10\n",
            "94/94 [==============================] - 20s 217ms/step - loss: 0.1582 - accuracy: 0.9408 - val_loss: 1.7297 - val_accuracy: 0.6532\n",
            "Epoch 2/10\n",
            "94/94 [==============================] - 20s 217ms/step - loss: 0.1322 - accuracy: 0.9543 - val_loss: 1.7613 - val_accuracy: 0.6620\n",
            "Epoch 3/10\n",
            "94/94 [==============================] - 20s 217ms/step - loss: 0.1051 - accuracy: 0.9653 - val_loss: 1.6784 - val_accuracy: 0.6425\n",
            "Epoch 4/10\n",
            "94/94 [==============================] - 20s 217ms/step - loss: 0.0797 - accuracy: 0.9727 - val_loss: 1.8373 - val_accuracy: 0.6617\n",
            "Epoch 5/10\n",
            "94/94 [==============================] - 20s 215ms/step - loss: 0.0597 - accuracy: 0.9815 - val_loss: 2.0952 - val_accuracy: 0.6595\n",
            "Epoch 6/10\n",
            "94/94 [==============================] - 20s 215ms/step - loss: 0.0531 - accuracy: 0.9821 - val_loss: 2.0576 - val_accuracy: 0.6617\n",
            "Epoch 7/10\n",
            "94/94 [==============================] - 20s 218ms/step - loss: 0.0483 - accuracy: 0.9840 - val_loss: 2.0471 - val_accuracy: 0.6689\n",
            "Epoch 8/10\n",
            "94/94 [==============================] - 20s 217ms/step - loss: 0.0416 - accuracy: 0.9866 - val_loss: 2.4262 - val_accuracy: 0.6565\n",
            "Epoch 9/10\n",
            "94/94 [==============================] - 20s 217ms/step - loss: 0.0400 - accuracy: 0.9856 - val_loss: 2.2228 - val_accuracy: 0.6620\n",
            "Epoch 10/10\n",
            "94/94 [==============================] - 20s 217ms/step - loss: 0.0360 - accuracy: 0.9877 - val_loss: 2.3729 - val_accuracy: 0.6592\n"
          ],
          "name": "stdout"
        }
      ]
    },
    {
      "cell_type": "markdown",
      "metadata": {
        "id": "rcAbgZj8hmlM",
        "colab_type": "text"
      },
      "source": [
        "* Accuracy -  is calculated on the training data. This tells us the percentage of the instances that are correctly classified.\n",
        "\n",
        "* Val_accuracy - is calculated on the validation data. This is a measure of how good the predictions are of the model.\n",
        "\n",
        "* Loss - This represents the training loss which is the average of the losses occuring over every batch of the training data.\n",
        "\n",
        "* Val_loss - This tells us the loss occuring over every batch of the test data. Which is the unseen data at this point of time.\n"
      ]
    },
    {
      "cell_type": "markdown",
      "metadata": {
        "id": "4vCc9YhvhmlM",
        "colab_type": "text"
      },
      "source": [
        "**OBSERVATIONS:**\n",
        "\n",
        "* At the start since, the model is changing over the time, the loss over the first batch of the training data of an epoch is generally higher than the last batches of the data.\n",
        "\n",
        "* We can tell the model is getting trained in a good way when the two losses(loss and the val_loss) are decreasing over each epoch and the two accuracies(accuracy and val_accuracy) are increasing gradually.\n",
        "\n",
        "* Now if we see the last batch of each epoch at 3,5 and 10 we can see the following:\n",
        "\n",
        "    * At epoch=3 loss and val_loss has decreased and accuracy and val_accuracy has increased.\n",
        "    \n",
        "    * At epoch = 5 loss is decreasing but val_loss is increasing. And accuracy is increasing whereas val_accuracy has reached constant.\n",
        "    \n",
        "    * At epoch = 10 is also similar to epoch -5 where the val_accuracy has reached a constant and has stopped increasing.\n",
        "    \n",
        "    Hence, we stop at epoch = 10 otherwise the model is getting overfitted.\n",
        "    \n",
        "\n",
        "\n",
        "**For the model : xlm-roberta-large we consider epoch =3.**"
      ]
    },
    {
      "cell_type": "markdown",
      "metadata": {
        "id": "AxM86IU5hmlM",
        "colab_type": "text"
      },
      "source": [
        "# **Visualizing of the model at epoch = 3 for better understanding:**\n",
        "\n",
        "Let us Visualize the graph at **Epoch = 3**"
      ]
    },
    {
      "cell_type": "code",
      "metadata": {
        "trusted": true,
        "id": "GvDTU4VfhmlM",
        "colab_type": "code",
        "colab": {},
        "outputId": "71d4945f-3b9f-4552-af1d-5e6529fc8c9c"
      },
      "source": [
        "plt.figure(figsize=(15, 5))\n",
        "\n",
        "plt.subplot(121)\n",
        "plt.plot(model_3.history['loss'], label = 'Train_data Loss')\n",
        "plt.plot(model_3.history['val_loss'], label = 'test_data loss')\n",
        "plt.title(\"Curve at epoch=3\")\n",
        "plt.legend()\n",
        "\n",
        "plt.subplot(122)\n",
        "plt.plot(model_3.history['accuracy'], label = 'Train_data accuracy')\n",
        "plt.plot(model_3.history['val_accuracy'], label = 'Validation_data accuracy')\n",
        "plt.title(\"Curve at epoch=3\")\n",
        "plt.legend()"
      ],
      "execution_count": null,
      "outputs": [
        {
          "output_type": "execute_result",
          "data": {
            "text/plain": [
              "<matplotlib.legend.Legend at 0x7fef680d6d50>"
            ]
          },
          "metadata": {
            "tags": []
          },
          "execution_count": 24
        },
        {
          "output_type": "display_data",
          "data": {
            "text/plain": [
              "<Figure size 1080x360 with 2 Axes>"
            ],
            "image/png": "[encoded data removed]"
          },
          "metadata": {
            "tags": [],
            "needs_background": "light"
          }
        }
      ]
    },
    {
      "cell_type": "markdown",
      "metadata": {
        "id": "iCLD3Ph1hmlO",
        "colab_type": "text"
      },
      "source": [
        "# **XLM-RoBERTa Model: (BASE)**"
      ]
    },
    {
      "cell_type": "code",
      "metadata": {
        "trusted": true,
        "id": "40ec52TYhmlP",
        "colab_type": "code",
        "colab": {},
        "outputId": "3f2f31ef-2979-4978-8f88-7dd3955620d1"
      },
      "source": [
        "model1=model_defination(strategy,\"jplu/tf-xlm-roberta-base\")"
      ],
      "execution_count": null,
      "outputs": [
        {
          "output_type": "display_data",
          "data": {
            "text/plain": [
              "HBox(children=(FloatProgress(value=0.0, description='Downloading', max=512.0, style=ProgressStyle(description_…"
            ],
            "application/vnd.jupyter.widget-view+json": {
              "version_major": 2,
              "version_minor": 0,
              "model_id": "9fcca2b2e9a64a178fb778822a6db77d"
            }
          },
          "metadata": {
            "tags": []
          }
        },
        {
          "output_type": "stream",
          "text": [
            "\n"
          ],
          "name": "stdout"
        },
        {
          "output_type": "display_data",
          "data": {
            "text/plain": [
              "HBox(children=(FloatProgress(value=0.0, description='Downloading', max=1885418496.0, style=ProgressStyle(descr…"
            ],
            "application/vnd.jupyter.widget-view+json": {
              "version_major": 2,
              "version_minor": 0,
              "model_id": "8e32fc9335414177adb4a0b91195df5d"
            }
          },
          "metadata": {
            "tags": []
          }
        },
        {
          "output_type": "stream",
          "text": [
            "\n"
          ],
          "name": "stdout"
        }
      ]
    },
    {
      "cell_type": "code",
      "metadata": {
        "trusted": true,
        "id": "EfPWzxgmhmlR",
        "colab_type": "code",
        "colab": {},
        "outputId": "ee6ab5b4-b239-4d9c-ab94-4893e2564f65"
      },
      "source": [
        "model1.summary()"
      ],
      "execution_count": null,
      "outputs": [
        {
          "output_type": "stream",
          "text": [
            "Model: \"model_1\"\n",
            "_________________________________________________________________\n",
            "Layer (type)                 Output Shape              Param #   \n",
            "=================================================================\n",
            "input_layer (InputLayer)     [(None, 30)]              0         \n",
            "_________________________________________________________________\n",
            "tf_roberta_model_1 (TFRobert ((None, 30, 768), (None,  278043648 \n",
            "_________________________________________________________________\n",
            "tf_op_layer_strided_slice_1  [(None, 768)]             0         \n",
            "_________________________________________________________________\n",
            "dense_1 (Dense)              (None, 3)                 2307      \n",
            "=================================================================\n",
            "Total params: 278,045,955\n",
            "Trainable params: 278,045,955\n",
            "Non-trainable params: 0\n",
            "_________________________________________________________________\n"
          ],
          "name": "stdout"
        }
      ]
    },
    {
      "cell_type": "markdown",
      "metadata": {
        "id": "gV7SRhzphmlS",
        "colab_type": "text"
      },
      "source": [
        "**Tokenizing: With (xlm-roberta-base)**"
      ]
    },
    {
      "cell_type": "code",
      "metadata": {
        "trusted": true,
        "id": "HCq70CLShmlS",
        "colab_type": "code",
        "colab": {},
        "outputId": "f204304d-ff08-4233-97b4-c9bc29082d93"
      },
      "source": [
        "tokenizer1 = AutoTokenizer.from_pretrained('jplu/tf-xlm-roberta-base')"
      ],
      "execution_count": null,
      "outputs": [
        {
          "output_type": "display_data",
          "data": {
            "text/plain": [
              "HBox(children=(FloatProgress(value=0.0, description='Downloading', max=5069051.0, style=ProgressStyle(descript…"
            ],
            "application/vnd.jupyter.widget-view+json": {
              "version_major": 2,
              "version_minor": 0,
              "model_id": "e6fccf538cbd4ab7b1724a7502f5aafa"
            }
          },
          "metadata": {
            "tags": []
          }
        },
        {
          "output_type": "stream",
          "text": [
            "\n"
          ],
          "name": "stdout"
        }
      ]
    },
    {
      "cell_type": "code",
      "metadata": {
        "trusted": true,
        "id": "UMrhzgzthmlU",
        "colab_type": "code",
        "colab": {}
      },
      "source": [
        "train_set1 = train_data[['premise','hypothesis']].values.tolist()\n",
        "test_set1 = test_data[['premise','hypothesis']].values.tolist()"
      ],
      "execution_count": null,
      "outputs": []
    },
    {
      "cell_type": "markdown",
      "metadata": {
        "id": "lX4x_NgKhmlV",
        "colab_type": "text"
      },
      "source": [
        "**Encoding the Data:**"
      ]
    },
    {
      "cell_type": "code",
      "metadata": {
        "trusted": true,
        "id": "Nil7cowShmlW",
        "colab_type": "code",
        "colab": {}
      },
      "source": [
        "encoded_train1 = tokenizer1.batch_encode_plus(train_set1, pad_to_max_length=True, max_length=30)\n",
        "encoded_test1 = tokenizer1.batch_encode_plus(test_set1, pad_to_max_length=True, max_length=30)"
      ],
      "execution_count": null,
      "outputs": []
    },
    {
      "cell_type": "markdown",
      "metadata": {
        "id": "gd7SNpaBhmlX",
        "colab_type": "text"
      },
      "source": [
        "**Train and Test Split:**"
      ]
    },
    {
      "cell_type": "code",
      "metadata": {
        "trusted": true,
        "id": "meyPvGylhmlY",
        "colab_type": "code",
        "colab": {}
      },
      "source": [
        "X_train, X_valid, Y_train, Y_valid = train_test_split(encoded_train1['input_ids'], train_data.label.values, test_size=0.3)\n",
        "\n",
        "x_test = encoded_test1['input_ids']"
      ],
      "execution_count": null,
      "outputs": []
    },
    {
      "cell_type": "markdown",
      "metadata": {
        "id": "_G31nMoMhmlZ",
        "colab_type": "text"
      },
      "source": [
        "**Pipeline:**"
      ]
    },
    {
      "cell_type": "code",
      "metadata": {
        "trusted": true,
        "id": "CgZnxnfdhmlZ",
        "colab_type": "code",
        "colab": {}
      },
      "source": [
        "train_df1 = (tf.data.Dataset.from_tensor_slices((X_train, Y_train)).repeat().shuffle(2048).batch(BATCH_SIZE).prefetch(AUTO))\n",
        "\n",
        "valid_df1 = (tf.data.Dataset.from_tensor_slices((X_valid, Y_valid)).batch(BATCH_SIZE).cache().prefetch(AUTO))\n",
        "\n",
        "test_df1 = (tf.data.Dataset.from_tensor_slices(x_test).batch(BATCH_SIZE))"
      ],
      "execution_count": null,
      "outputs": []
    },
    {
      "cell_type": "markdown",
      "metadata": {
        "id": "85MGnct8hmlb",
        "colab_type": "text"
      },
      "source": [
        "**Training the Model:**"
      ]
    },
    {
      "cell_type": "code",
      "metadata": {
        "trusted": true,
        "id": "PHgezZgmhmlb",
        "colab_type": "code",
        "colab": {},
        "outputId": "6798b73a-383b-47de-8bd5-db2483ee9212"
      },
      "source": [
        "#Epochs=3\n",
        "model1_3 = model1.fit(train_df1,steps_per_epoch=step,validation_data=valid_df1,epochs=3)"
      ],
      "execution_count": null,
      "outputs": [
        {
          "output_type": "stream",
          "text": [
            "Epoch 1/3\n",
            "94/94 [==============================] - 23s 242ms/step - loss: 1.1756 - accuracy: 0.3492 - val_loss: 1.0914 - val_accuracy: 0.4142\n",
            "Epoch 2/3\n",
            "94/94 [==============================] - 11s 113ms/step - loss: 1.0587 - accuracy: 0.4502 - val_loss: 0.9619 - val_accuracy: 0.5300\n",
            "Epoch 3/3\n",
            "94/94 [==============================] - 11s 113ms/step - loss: 0.9381 - accuracy: 0.5465 - val_loss: 0.9175 - val_accuracy: 0.5781\n"
          ],
          "name": "stdout"
        }
      ]
    },
    {
      "cell_type": "code",
      "metadata": {
        "trusted": true,
        "id": "1Ne9YKVOhmld",
        "colab_type": "code",
        "colab": {},
        "outputId": "594a0064-80d2-45fd-9b69-7e630d43ce19"
      },
      "source": [
        "#Epochs=5\n",
        "model1_5 = model1.fit(train_df1,steps_per_epoch=step,validation_data=valid_df1,epochs=5)"
      ],
      "execution_count": null,
      "outputs": [
        {
          "output_type": "stream",
          "text": [
            "Epoch 1/5\n",
            "94/94 [==============================] - 11s 112ms/step - loss: 0.8382 - accuracy: 0.6135 - val_loss: 0.9325 - val_accuracy: 0.5891\n",
            "Epoch 2/5\n",
            "94/94 [==============================] - 11s 114ms/step - loss: 0.7535 - accuracy: 0.6676 - val_loss: 0.9834 - val_accuracy: 0.5880\n",
            "Epoch 3/5\n",
            "94/94 [==============================] - 11s 115ms/step - loss: 0.6524 - accuracy: 0.7243 - val_loss: 1.1297 - val_accuracy: 0.5935\n",
            "Epoch 4/5\n",
            "94/94 [==============================] - 11s 113ms/step - loss: 0.5551 - accuracy: 0.7735 - val_loss: 1.1801 - val_accuracy: 0.5924\n",
            "Epoch 5/5\n",
            "94/94 [==============================] - 11s 113ms/step - loss: 0.4517 - accuracy: 0.8226 - val_loss: 1.3641 - val_accuracy: 0.5932\n"
          ],
          "name": "stdout"
        }
      ]
    },
    {
      "cell_type": "code",
      "metadata": {
        "trusted": true,
        "id": "ZlFd9_gwhmlf",
        "colab_type": "code",
        "colab": {},
        "outputId": "3adc69ac-0c08-4f98-b9e3-f0635e0aca3e"
      },
      "source": [
        "#Epochs=10\n",
        "model1_10 = model1.fit(train_df1,steps_per_epoch=step,validation_data=valid_df1,epochs=10)"
      ],
      "execution_count": null,
      "outputs": [
        {
          "output_type": "stream",
          "text": [
            "Epoch 1/10\n",
            "94/94 [==============================] - 11s 113ms/step - loss: 0.3727 - accuracy: 0.8594 - val_loss: 1.4570 - val_accuracy: 0.5886\n",
            "Epoch 2/10\n",
            "94/94 [==============================] - 11s 113ms/step - loss: 0.3070 - accuracy: 0.8834 - val_loss: 1.5789 - val_accuracy: 0.5974\n",
            "Epoch 3/10\n",
            "94/94 [==============================] - 11s 113ms/step - loss: 0.2350 - accuracy: 0.9136 - val_loss: 1.7543 - val_accuracy: 0.5858\n",
            "Epoch 4/10\n",
            "94/94 [==============================] - 11s 113ms/step - loss: 0.1848 - accuracy: 0.9332 - val_loss: 1.9454 - val_accuracy: 0.5861\n",
            "Epoch 5/10\n",
            "94/94 [==============================] - 11s 113ms/step - loss: 0.1404 - accuracy: 0.9489 - val_loss: 2.1294 - val_accuracy: 0.5864\n",
            "Epoch 6/10\n",
            "94/94 [==============================] - 11s 113ms/step - loss: 0.1258 - accuracy: 0.9551 - val_loss: 2.1129 - val_accuracy: 0.5938\n",
            "Epoch 7/10\n",
            "94/94 [==============================] - 11s 114ms/step - loss: 0.0952 - accuracy: 0.9663 - val_loss: 2.4818 - val_accuracy: 0.5916\n",
            "Epoch 8/10\n",
            "94/94 [==============================] - 11s 115ms/step - loss: 0.0909 - accuracy: 0.9697 - val_loss: 2.4926 - val_accuracy: 0.5833\n",
            "Epoch 9/10\n",
            "94/94 [==============================] - 11s 113ms/step - loss: 0.0684 - accuracy: 0.9766 - val_loss: 2.5982 - val_accuracy: 0.5943\n",
            "Epoch 10/10\n",
            "94/94 [==============================] - 11s 113ms/step - loss: 0.0686 - accuracy: 0.9768 - val_loss: 2.5520 - val_accuracy: 0.5875\n"
          ],
          "name": "stdout"
        }
      ]
    },
    {
      "cell_type": "markdown",
      "metadata": {
        "id": "nJjTJ9cKhmlh",
        "colab_type": "text"
      },
      "source": [
        "**OBSERVATIONS:**\n",
        "\n",
        "* Now if we see the last batch of each epoch at 3,5 and 10 we can see the following:\n",
        "\n",
        "    * At epoch=3 loss has decreased and val_loss has decreased and accuracy has increased and val_accuracy has also increased.\n",
        "    * At epoch = 5 loss is decreasing and val_loss is increasing. And accuracy is increasing whereas val_accuracy has reached constant.\n",
        "    \n",
        "    * At epoch = 10 is also similar to epoch -5 where the val_accuracy has reached a constant and has stopped increasing.\n",
        "    \n",
        "    Hence, we stop at epoch = 10 otherwise the model is getting overfitted.\n",
        "\n",
        "\n",
        "**For the model : xlm-roberta-base we consider epoch =3.**"
      ]
    },
    {
      "cell_type": "markdown",
      "metadata": {
        "id": "OHbnv_gwhmlh",
        "colab_type": "text"
      },
      "source": [
        "# **Visualizing of the model at epoch = 3 for better understanding:**"
      ]
    },
    {
      "cell_type": "code",
      "metadata": {
        "trusted": true,
        "id": "YaAXo_64hmlh",
        "colab_type": "code",
        "colab": {},
        "outputId": "7f5db107-e71e-4042-c872-bf13645ef928"
      },
      "source": [
        "plt.figure(figsize=(15, 5))\n",
        "\n",
        "plt.subplot(121)\n",
        "plt.plot(model1_3.history['loss'], label = 'Train_data Loss')\n",
        "plt.plot(model1_3.history['val_loss'], label = 'test_data loss')\n",
        "plt.title(\"Curve at epoch=3\")\n",
        "plt.legend()\n",
        "\n",
        "\n",
        "plt.subplot(122)\n",
        "plt.plot(model1_3.history['accuracy'], label = 'Train_data accuracy')\n",
        "plt.plot(model1_3.history['val_accuracy'], label = 'Validation_data accuracy')\n",
        "plt.title(\"Curve at epoch=3\")\n",
        "plt.legend()"
      ],
      "execution_count": null,
      "outputs": [
        {
          "output_type": "execute_result",
          "data": {
            "text/plain": [
              "<matplotlib.legend.Legend at 0x7fef600da250>"
            ]
          },
          "metadata": {
            "tags": []
          },
          "execution_count": 36
        },
        {
          "output_type": "display_data",
          "data": {
            "text/plain": [
              "<Figure size 1080x360 with 2 Axes>"
            ],
            "image/png": "[encoded data removed]"
          },
          "metadata": {
            "tags": [],
            "needs_background": "light"
          }
        }
      ]
    },
    {
      "cell_type": "markdown",
      "metadata": {
        "id": "Md1idzoOhmlj",
        "colab_type": "text"
      },
      "source": [
        "# **For Model: xlm-roberta-base, let us experiment with XLMRobertaTokenizer for Tokenizing:**"
      ]
    },
    {
      "cell_type": "code",
      "metadata": {
        "trusted": true,
        "id": "2ykVfSbHhmlj",
        "colab_type": "code",
        "colab": {}
      },
      "source": [
        "tokenizer2 = XLMRobertaTokenizer.from_pretrained('jplu/tf-xlm-roberta-base')"
      ],
      "execution_count": null,
      "outputs": []
    },
    {
      "cell_type": "code",
      "metadata": {
        "trusted": true,
        "id": "AMCh9SUOhmll",
        "colab_type": "code",
        "colab": {}
      },
      "source": [
        "train_set2 = train_data[['premise','hypothesis']].values.tolist()\n",
        "test_set2 = test_data[['premise','hypothesis']].values.tolist()"
      ],
      "execution_count": null,
      "outputs": []
    },
    {
      "cell_type": "code",
      "metadata": {
        "trusted": true,
        "id": "VGuaRsQxhmlm",
        "colab_type": "code",
        "colab": {}
      },
      "source": [
        "encoded_train2 = tokenizer2.batch_encode_plus(train_set2, pad_to_max_length=True, max_length=30)\n",
        "encoded_test2 = tokenizer2.batch_encode_plus(test_set2, pad_to_max_length=True, max_length=30)"
      ],
      "execution_count": null,
      "outputs": []
    },
    {
      "cell_type": "code",
      "metadata": {
        "trusted": true,
        "id": "BIW_sD_ahmlo",
        "colab_type": "code",
        "colab": {}
      },
      "source": [
        "X_train, X_valid, Y_train, Y_valid = train_test_split(encoded_train2['input_ids'], train_data.label.values, test_size=0.3)\n",
        "\n",
        "x_test = encoded_test2['input_ids']"
      ],
      "execution_count": null,
      "outputs": []
    },
    {
      "cell_type": "code",
      "metadata": {
        "trusted": true,
        "id": "yJesWemShmlr",
        "colab_type": "code",
        "colab": {}
      },
      "source": [
        "train_df2 = (tf.data.Dataset.from_tensor_slices((X_train, Y_train)).repeat().shuffle(2048).batch(BATCH_SIZE).prefetch(AUTO))\n",
        "\n",
        "valid_df2 = (tf.data.Dataset.from_tensor_slices((X_valid, Y_valid)).batch(BATCH_SIZE).cache().prefetch(AUTO))\n",
        "\n",
        "test_df2 = (tf.data.Dataset.from_tensor_slices(x_test).batch(BATCH_SIZE))"
      ],
      "execution_count": null,
      "outputs": []
    },
    {
      "cell_type": "code",
      "metadata": {
        "trusted": true,
        "id": "cwzc3zQThmlt",
        "colab_type": "code",
        "colab": {},
        "outputId": "87619160-89d8-44c3-b0db-966d1eefd431"
      },
      "source": [
        "#Epochs=3\n",
        "model1_1_3 = model1.fit(train_df2,steps_per_epoch=step,validation_data=valid_df2,epochs=3)"
      ],
      "execution_count": null,
      "outputs": [
        {
          "output_type": "stream",
          "text": [
            "Epoch 1/3\n",
            "94/94 [==============================] - 10s 110ms/step - loss: 0.4566 - accuracy: 0.8605 - val_loss: 0.3706 - val_accuracy: 0.8809\n",
            "Epoch 2/3\n",
            "94/94 [==============================] - 10s 111ms/step - loss: 0.3359 - accuracy: 0.8910 - val_loss: 0.3990 - val_accuracy: 0.8782\n",
            "Epoch 3/3\n",
            "94/94 [==============================] - 10s 111ms/step - loss: 0.2411 - accuracy: 0.9206 - val_loss: 0.4647 - val_accuracy: 0.8773\n"
          ],
          "name": "stdout"
        }
      ]
    },
    {
      "cell_type": "code",
      "metadata": {
        "trusted": true,
        "id": "D5qyUhi1hmlv",
        "colab_type": "code",
        "colab": {},
        "outputId": "666677d6-7bdf-45a2-90c5-84ecebe0727e"
      },
      "source": [
        "plt.figure(figsize=(15, 5))\n",
        "\n",
        "plt.subplot(121)\n",
        "plt.plot(model1_1_3.history['loss'], label = 'Train_data Loss')\n",
        "plt.plot(model1_1_3.history['val_loss'], label = 'test_data loss')\n",
        "plt.title(\"Curve at epoch=3\")\n",
        "plt.legend()\n",
        "\n",
        "\n",
        "plt.subplot(122)\n",
        "plt.plot(model1_1_3.history['accuracy'], label = 'Train_data accuracy')\n",
        "plt.plot(model1_1_3.history['val_accuracy'], label = 'Validation_data accuracy')\n",
        "plt.title(\"Curve at epoch=3\")\n",
        "plt.legend()"
      ],
      "execution_count": null,
      "outputs": [
        {
          "output_type": "execute_result",
          "data": {
            "text/plain": [
              "<matplotlib.legend.Legend at 0x7fef5d384410>"
            ]
          },
          "metadata": {
            "tags": []
          },
          "execution_count": 43
        },
        {
          "output_type": "display_data",
          "data": {
            "text/plain": [
              "<Figure size 1080x360 with 2 Axes>"
            ],
            "image/png": "[encoded data removed]"
          },
          "metadata": {
            "tags": [],
            "needs_background": "light"
          }
        }
      ]
    },
    {
      "cell_type": "markdown",
      "metadata": {
        "id": "zRqyKEz-hmlx",
        "colab_type": "text"
      },
      "source": [
        "**OBSERVATIONS:**\n",
        "\n",
        "* For Model: xlm-roberta-base, experimenting with XLMRobertaTokenizer has not given any better outcome than the previous models.\n",
        "\n",
        "* xlm-roberta-base with XLMRobertaTokenizer at epoch = 3 has performed the worst among other xlm-roberta models.\n",
        "\n",
        "* Hence , we consider xlm-roberta-large at epoch = 3 as our final  xlm-roberta model."
      ]
    },
    {
      "cell_type": "markdown",
      "metadata": {
        "id": "xoL1MLtEhmlz",
        "colab_type": "text"
      },
      "source": [
        "# **Implementing Model: distilbert-base-multilingual-cased**"
      ]
    },
    {
      "cell_type": "markdown",
      "metadata": {
        "id": "PUzW-kh_hmlz",
        "colab_type": "text"
      },
      "source": [
        "* For the above model defination.\n",
        "\n",
        "* Running it on the train and test data respectively."
      ]
    },
    {
      "cell_type": "code",
      "metadata": {
        "trusted": true,
        "id": "XdIP26Xshml0",
        "colab_type": "code",
        "colab": {},
        "outputId": "22da4dfa-d735-4789-840b-344490e6176c"
      },
      "source": [
        "model_b=model_defination(strategy,\"distilbert-base-multilingual-cased\")"
      ],
      "execution_count": null,
      "outputs": [
        {
          "output_type": "display_data",
          "data": {
            "text/plain": [
              "HBox(children=(FloatProgress(value=0.0, description='Downloading', max=466.0, style=ProgressStyle(description_…"
            ],
            "application/vnd.jupyter.widget-view+json": {
              "version_major": 2,
              "version_minor": 0,
              "model_id": "3d420cb694e140b38061b641b5b3d02e"
            }
          },
          "metadata": {
            "tags": []
          }
        },
        {
          "output_type": "stream",
          "text": [
            "\n"
          ],
          "name": "stdout"
        },
        {
          "output_type": "display_data",
          "data": {
            "text/plain": [
              "HBox(children=(FloatProgress(value=0.0, description='Downloading', max=910749124.0, style=ProgressStyle(descri…"
            ],
            "application/vnd.jupyter.widget-view+json": {
              "version_major": 2,
              "version_minor": 0,
              "model_id": "08bf99bbcb8c480c9c5714276ea1c043"
            }
          },
          "metadata": {
            "tags": []
          }
        },
        {
          "output_type": "stream",
          "text": [
            "\n"
          ],
          "name": "stdout"
        }
      ]
    },
    {
      "cell_type": "code",
      "metadata": {
        "trusted": true,
        "id": "HWfBALalhml1",
        "colab_type": "code",
        "colab": {},
        "outputId": "8f95dfe5-f3e4-41ee-9516-4e52fe21027a"
      },
      "source": [
        "model_b.summary()"
      ],
      "execution_count": null,
      "outputs": [
        {
          "output_type": "stream",
          "text": [
            "Model: \"model_2\"\n",
            "_________________________________________________________________\n",
            "Layer (type)                 Output Shape              Param #   \n",
            "=================================================================\n",
            "input_layer (InputLayer)     [(None, 30)]              0         \n",
            "_________________________________________________________________\n",
            "tf_distil_bert_model (TFDist ((None, 30, 768),)        134734080 \n",
            "_________________________________________________________________\n",
            "tf_op_layer_strided_slice_2  [(None, 768)]             0         \n",
            "_________________________________________________________________\n",
            "dense_2 (Dense)              (None, 3)                 2307      \n",
            "=================================================================\n",
            "Total params: 134,736,387\n",
            "Trainable params: 134,736,387\n",
            "Non-trainable params: 0\n",
            "_________________________________________________________________\n"
          ],
          "name": "stdout"
        }
      ]
    },
    {
      "cell_type": "code",
      "metadata": {
        "trusted": true,
        "id": "4eKd78Fhhml3",
        "colab_type": "code",
        "colab": {},
        "outputId": "fcfe8f1c-becd-433f-92a7-ae0f7f3f3545"
      },
      "source": [
        "tokenizerb = transformers.DistilBertTokenizer.from_pretrained('distilbert-base-multilingual-cased')"
      ],
      "execution_count": null,
      "outputs": [
        {
          "output_type": "display_data",
          "data": {
            "text/plain": [
              "HBox(children=(FloatProgress(value=0.0, description='Downloading', max=995526.0, style=ProgressStyle(descripti…"
            ],
            "application/vnd.jupyter.widget-view+json": {
              "version_major": 2,
              "version_minor": 0,
              "model_id": "cfdd530167bc4f4db9e306336ebddcbd"
            }
          },
          "metadata": {
            "tags": []
          }
        },
        {
          "output_type": "stream",
          "text": [
            "\n"
          ],
          "name": "stdout"
        }
      ]
    },
    {
      "cell_type": "code",
      "metadata": {
        "trusted": true,
        "id": "zH3cquEChml4",
        "colab_type": "code",
        "colab": {}
      },
      "source": [
        "train_setb = train_data[['premise','hypothesis']].values.tolist()\n",
        "test_setb = test_data[['premise','hypothesis']].values.tolist()"
      ],
      "execution_count": null,
      "outputs": []
    },
    {
      "cell_type": "code",
      "metadata": {
        "trusted": true,
        "id": "UrFvks0thml7",
        "colab_type": "code",
        "colab": {}
      },
      "source": [
        "encoded_trainb = tokenizerb.batch_encode_plus(train_setb, pad_to_max_length=True, max_length=30)\n",
        "encoded_testb = tokenizerb.batch_encode_plus(test_setb, pad_to_max_length=True, max_length=30)"
      ],
      "execution_count": null,
      "outputs": []
    },
    {
      "cell_type": "code",
      "metadata": {
        "trusted": true,
        "id": "CUz9pdsLhml-",
        "colab_type": "code",
        "colab": {}
      },
      "source": [
        "X_train, X_valid, Y_train, Y_valid = train_test_split(encoded_trainb['input_ids'], train_data.label.values, test_size=0.3)\n",
        "\n",
        "x_test = encoded_testb['input_ids']"
      ],
      "execution_count": null,
      "outputs": []
    },
    {
      "cell_type": "code",
      "metadata": {
        "trusted": true,
        "id": "BcmF5A5shml_",
        "colab_type": "code",
        "colab": {}
      },
      "source": [
        "train_dfb = (tf.data.Dataset.from_tensor_slices((X_train, Y_train)).repeat().shuffle(2048).batch(BATCH_SIZE).prefetch(AUTO))\n",
        "\n",
        "valid_dfb = (tf.data.Dataset.from_tensor_slices((X_valid, Y_valid)).batch(BATCH_SIZE).cache().prefetch(AUTO))\n",
        "\n",
        "test_dfb = (tf.data.Dataset.from_tensor_slices(x_test).batch(BATCH_SIZE))"
      ],
      "execution_count": null,
      "outputs": []
    },
    {
      "cell_type": "code",
      "metadata": {
        "trusted": true,
        "id": "PUi0MwAhhmmB",
        "colab_type": "code",
        "colab": {},
        "outputId": "21aef02d-9434-45fc-d521-212db2f26f3c"
      },
      "source": [
        "#Epochs=3\n",
        "modelb = model_b.fit(train_dfb,steps_per_epoch=step,validation_data=valid_dfb,epochs=3)"
      ],
      "execution_count": null,
      "outputs": [
        {
          "output_type": "stream",
          "text": [
            "Epoch 1/3\n",
            "94/94 [==============================] - 13s 138ms/step - loss: 1.0961 - accuracy: 0.3754 - val_loss: 1.0491 - val_accuracy: 0.4337\n",
            "Epoch 2/3\n",
            "94/94 [==============================] - 6s 66ms/step - loss: 0.9916 - accuracy: 0.5096 - val_loss: 1.0074 - val_accuracy: 0.4992\n",
            "Epoch 3/3\n",
            "94/94 [==============================] - 6s 66ms/step - loss: 0.8889 - accuracy: 0.5889 - val_loss: 1.0341 - val_accuracy: 0.4959\n"
          ],
          "name": "stdout"
        }
      ]
    },
    {
      "cell_type": "code",
      "metadata": {
        "trusted": true,
        "id": "z9v622YZhmmD",
        "colab_type": "code",
        "colab": {},
        "outputId": "18642d7a-6b0d-40be-df00-e6615a12af46"
      },
      "source": [
        "#Epochs=6\n",
        "modelb_1 = model_b.fit(train_dfb,steps_per_epoch=step,validation_data=valid_dfb,epochs=6)"
      ],
      "execution_count": null,
      "outputs": [
        {
          "output_type": "stream",
          "text": [
            "Epoch 1/6\n",
            "94/94 [==============================] - 6s 65ms/step - loss: 0.7707 - accuracy: 0.6683 - val_loss: 1.0931 - val_accuracy: 0.5063\n",
            "Epoch 2/6\n",
            "94/94 [==============================] - 6s 65ms/step - loss: 0.6233 - accuracy: 0.7434 - val_loss: 1.2757 - val_accuracy: 0.4997\n",
            "Epoch 3/6\n",
            "94/94 [==============================] - 6s 67ms/step - loss: 0.4727 - accuracy: 0.8182 - val_loss: 1.4709 - val_accuracy: 0.4857\n",
            "Epoch 4/6\n",
            "94/94 [==============================] - 6s 67ms/step - loss: 0.3338 - accuracy: 0.8771 - val_loss: 1.6592 - val_accuracy: 0.4769\n",
            "Epoch 5/6\n",
            "94/94 [==============================] - 6s 66ms/step - loss: 0.2304 - accuracy: 0.9205 - val_loss: 1.9386 - val_accuracy: 0.4747\n",
            "Epoch 6/6\n",
            "94/94 [==============================] - 6s 66ms/step - loss: 0.1694 - accuracy: 0.9429 - val_loss: 2.1298 - val_accuracy: 0.4785\n"
          ],
          "name": "stdout"
        }
      ]
    },
    {
      "cell_type": "markdown",
      "metadata": {
        "id": "iuDOWUAzhmmF",
        "colab_type": "text"
      },
      "source": [
        "# **Visualization:**"
      ]
    },
    {
      "cell_type": "code",
      "metadata": {
        "trusted": true,
        "id": "itX7uiqehmmF",
        "colab_type": "code",
        "colab": {},
        "outputId": "cce8df4d-2257-4812-fee3-d06811f617b1"
      },
      "source": [
        "plt.figure(figsize=(15, 5))\n",
        "\n",
        "plt.subplot(121)\n",
        "plt.plot(modelb.history['loss'], label = 'Train_data Loss')\n",
        "plt.plot(modelb.history['val_loss'], label = 'test_data loss')\n",
        "plt.title(\"Curve at epoch=3\")\n",
        "plt.legend()\n",
        "\n",
        "\n",
        "plt.subplot(122)\n",
        "plt.plot(modelb.history['accuracy'], label = 'Train_data accuracy')\n",
        "plt.plot(modelb.history['val_accuracy'], label = 'Validation_data accuracy')\n",
        "plt.title(\"Curve at epoch=3\")\n",
        "plt.legend()"
      ],
      "execution_count": null,
      "outputs": [
        {
          "output_type": "execute_result",
          "data": {
            "text/plain": [
              "<matplotlib.legend.Legend at 0x7fef587ab950>"
            ]
          },
          "metadata": {
            "tags": []
          },
          "execution_count": 53
        },
        {
          "output_type": "display_data",
          "data": {
            "text/plain": [
              "<Figure size 1080x360 with 2 Axes>"
            ],
            "image/png": "[encoded data removed]"
          },
          "metadata": {
            "tags": [],
            "needs_background": "light"
          }
        }
      ]
    },
    {
      "cell_type": "code",
      "metadata": {
        "trusted": true,
        "id": "QpOmjZdvhmmG",
        "colab_type": "code",
        "colab": {},
        "outputId": "8f508fa7-afc9-4b4d-9023-107888d4f925"
      },
      "source": [
        "plt.figure(figsize=(15, 5))\n",
        "\n",
        "plt.subplot(121)\n",
        "plt.plot(modelb_1.history['loss'], label = 'Train_data Loss')\n",
        "plt.plot(modelb_1.history['val_loss'], label = 'test_data loss')\n",
        "plt.title(\"Curve at epoch=6\")\n",
        "plt.legend()\n",
        "\n",
        "plt.subplot(122)\n",
        "plt.plot(modelb_1.history['accuracy'], label = 'Train_data accuracy')\n",
        "plt.plot(modelb_1.history['val_accuracy'], label = 'Validation_data accuracy')\n",
        "plt.title(\"Curve at epoch=6\")\n",
        "plt.legend()"
      ],
      "execution_count": null,
      "outputs": [
        {
          "output_type": "execute_result",
          "data": {
            "text/plain": [
              "<matplotlib.legend.Legend at 0x7fef5852acd0>"
            ]
          },
          "metadata": {
            "tags": []
          },
          "execution_count": 54
        },
        {
          "output_type": "display_data",
          "data": {
            "text/plain": [
              "<Figure size 1080x360 with 2 Axes>"
            ],
            "image/png": "[encoded data removed]"
          },
          "metadata": {
            "tags": [],
            "needs_background": "light"
          }
        }
      ]
    },
    {
      "cell_type": "markdown",
      "metadata": {
        "id": "qglWo4OEhmmJ",
        "colab_type": "text"
      },
      "source": [
        "**OBSERVATION:**\n",
        "\n",
        "* At epoch=6 the model fits badly.\n",
        "\n",
        "* Hence, we consider at epoch =3 and will further experiment with different parameters below."
      ]
    },
    {
      "cell_type": "markdown",
      "metadata": {
        "id": "4LxPbxvEhmmJ",
        "colab_type": "text"
      },
      "source": [
        " **Build the model with different parameters for Dense layer and activation along different loss value.**\n",
        " \n",
        " * Changing the MAX_LEN value to 80 to change the input_layer shape"
      ]
    },
    {
      "cell_type": "code",
      "metadata": {
        "trusted": true,
        "id": "3yX04SJ-hmmK",
        "colab_type": "code",
        "colab": {}
      },
      "source": [
        "def model_defination(strategy,transformer):\n",
        "    with strategy.scope():\n",
        "        encoder = TFAutoModel.from_pretrained(transformer)\n",
        "        input_layer = Input(shape=(80,), dtype=tf.int32, name=\"input_layer\")\n",
        "        sequence_output = encoder(input_layer)[0]\n",
        "        cls_token = sequence_output[:, 0, :]\n",
        "        output_layer = Dense(1, activation='sigmoid')(cls_token)\n",
        "        model = Model(inputs=input_layer, outputs=output_layer)\n",
        "        model.compile(\n",
        "            Adam(lr=1e-5), \n",
        "            loss='binary_crossentropy', \n",
        "            metrics=['accuracy']\n",
        "        )\n",
        "        return model"
      ],
      "execution_count": null,
      "outputs": []
    },
    {
      "cell_type": "code",
      "metadata": {
        "trusted": true,
        "id": "-0IWVfK2hmmL",
        "colab_type": "code",
        "colab": {}
      },
      "source": [
        "model_b1=model_defination(strategy,\"distilbert-base-multilingual-cased\")"
      ],
      "execution_count": null,
      "outputs": []
    },
    {
      "cell_type": "code",
      "metadata": {
        "trusted": true,
        "id": "1r11zg_vhmmN",
        "colab_type": "code",
        "colab": {},
        "outputId": "0e0f9290-8637-40c1-fba2-0a1028bd8425"
      },
      "source": [
        "model_b1.summary()"
      ],
      "execution_count": null,
      "outputs": [
        {
          "output_type": "stream",
          "text": [
            "Model: \"model_3\"\n",
            "_________________________________________________________________\n",
            "Layer (type)                 Output Shape              Param #   \n",
            "=================================================================\n",
            "input_layer (InputLayer)     [(None, 80)]              0         \n",
            "_________________________________________________________________\n",
            "tf_distil_bert_model_1 (TFDi ((None, 80, 768),)        134734080 \n",
            "_________________________________________________________________\n",
            "tf_op_layer_strided_slice_3  [(None, 768)]             0         \n",
            "_________________________________________________________________\n",
            "dense_3 (Dense)              (None, 1)                 769       \n",
            "=================================================================\n",
            "Total params: 134,734,849\n",
            "Trainable params: 134,734,849\n",
            "Non-trainable params: 0\n",
            "_________________________________________________________________\n"
          ],
          "name": "stdout"
        }
      ]
    },
    {
      "cell_type": "code",
      "metadata": {
        "trusted": true,
        "id": "G5VLmr3JhmmQ",
        "colab_type": "code",
        "colab": {}
      },
      "source": [
        "tokenizerb_1 = transformers.DistilBertTokenizer.from_pretrained('distilbert-base-multilingual-cased')"
      ],
      "execution_count": null,
      "outputs": []
    },
    {
      "cell_type": "code",
      "metadata": {
        "trusted": true,
        "id": "WYIuC9tthmmR",
        "colab_type": "code",
        "colab": {}
      },
      "source": [
        "train_setb_1 = train_data[['premise','hypothesis']].values.tolist()\n",
        "test_setb_1 = test_data[['premise','hypothesis']].values.tolist()"
      ],
      "execution_count": null,
      "outputs": []
    },
    {
      "cell_type": "code",
      "metadata": {
        "trusted": true,
        "id": "LS9poi-UhmmS",
        "colab_type": "code",
        "colab": {}
      },
      "source": [
        "encoded_trainb_1 = tokenizerb_1.batch_encode_plus(train_setb_1, pad_to_max_length=True, max_length=80)\n",
        "encoded_testb_1 = tokenizerb_1.batch_encode_plus(test_setb_1, pad_to_max_length=True, max_length=80)"
      ],
      "execution_count": null,
      "outputs": []
    },
    {
      "cell_type": "code",
      "metadata": {
        "trusted": true,
        "id": "8qp5WFrBhmmU",
        "colab_type": "code",
        "colab": {}
      },
      "source": [
        "X_train, X_valid, Y_train, Y_valid = train_test_split(encoded_trainb_1['input_ids'], train_data.label.values, test_size=0.3)\n",
        "\n",
        "x_test = encoded_testb_1['input_ids']"
      ],
      "execution_count": null,
      "outputs": []
    },
    {
      "cell_type": "code",
      "metadata": {
        "trusted": true,
        "id": "NH1iGBUHhmmV",
        "colab_type": "code",
        "colab": {}
      },
      "source": [
        "train_dfb_1 = (tf.data.Dataset.from_tensor_slices((X_train, Y_train)).repeat().shuffle(2048).batch(BATCH_SIZE).prefetch(AUTO))\n",
        "\n",
        "valid_dfb_1 = (tf.data.Dataset.from_tensor_slices((X_valid, Y_valid)).batch(BATCH_SIZE).cache().prefetch(AUTO))\n",
        "\n",
        "test_dfb_1 = (tf.data.Dataset.from_tensor_slices(x_test).batch(BATCH_SIZE))"
      ],
      "execution_count": null,
      "outputs": []
    },
    {
      "cell_type": "code",
      "metadata": {
        "trusted": true,
        "id": "JO_aIrffhmmX",
        "colab_type": "code",
        "colab": {},
        "outputId": "12a34e96-0043-4e33-a897-048c948739c5"
      },
      "source": [
        "#Epochs=3\n",
        "model_b_1 = model_b1.fit(train_dfb_1,steps_per_epoch=step,validation_data=valid_dfb_1,epochs=3)"
      ],
      "execution_count": null,
      "outputs": [
        {
          "output_type": "stream",
          "text": [
            "Epoch 1/3\n",
            "94/94 [==============================] - 15s 157ms/step - loss: -0.1644 - accuracy: 0.3201 - val_loss: -1.2159 - val_accuracy: 0.3210\n",
            "Epoch 2/3\n",
            "94/94 [==============================] - 7s 77ms/step - loss: -2.5497 - accuracy: 0.3395 - val_loss: -2.8908 - val_accuracy: 0.3710\n",
            "Epoch 3/3\n",
            "94/94 [==============================] - 7s 78ms/step - loss: -4.0017 - accuracy: 0.3991 - val_loss: -3.3038 - val_accuracy: 0.4029\n"
          ],
          "name": "stdout"
        }
      ]
    },
    {
      "cell_type": "code",
      "metadata": {
        "trusted": true,
        "id": "PeJzPZ6yhmmY",
        "colab_type": "code",
        "colab": {},
        "outputId": "623acd92-5b1b-458b-a46d-bb395b70e6ba"
      },
      "source": [
        "plt.figure(figsize=(15, 5))\n",
        "\n",
        "plt.subplot(121)\n",
        "plt.plot(model_b_1.history['loss'], label = 'Train_data Loss')\n",
        "plt.plot(model_b_1.history['val_loss'], label = 'test_data loss')\n",
        "plt.title(\"Curve at epoch=3\")\n",
        "plt.legend()\n",
        "\n",
        "plt.subplot(122)\n",
        "plt.plot(model_b_1.history['accuracy'], label = 'Train_data accuracy')\n",
        "plt.plot(model_b_1.history['val_accuracy'], label = 'Validation_data accuracy')\n",
        "plt.title(\"Curve at epoch=3\")\n",
        "plt.legend()"
      ],
      "execution_count": null,
      "outputs": [
        {
          "output_type": "execute_result",
          "data": {
            "text/plain": [
              "<matplotlib.legend.Legend at 0x7fef53914190>"
            ]
          },
          "metadata": {
            "tags": []
          },
          "execution_count": 64
        },
        {
          "output_type": "display_data",
          "data": {
            "text/plain": [
              "<Figure size 1080x360 with 2 Axes>"
            ],
            "image/png": "[encoded data removed]"
          },
          "metadata": {
            "tags": [],
            "needs_background": "light"
          }
        }
      ]
    },
    {
      "cell_type": "markdown",
      "metadata": {
        "id": "LTo66rHGhmmZ",
        "colab_type": "text"
      },
      "source": [
        "**OBSERVATION:**\n",
        "\n",
        "\n",
        "* At epoch = 3, the model \"distilbert-base-multilingual-cased\" is performing well with the different parameters used for building the model."
      ]
    },
    {
      "cell_type": "markdown",
      "metadata": {
        "id": "Dyc5c1c8hmmZ",
        "colab_type": "text"
      },
      "source": [
        "# **Implementing Model: \"Bert-base-multilingual-cased\"**"
      ]
    },
    {
      "cell_type": "markdown",
      "metadata": {
        "id": "SeGD4Do0hmmZ",
        "colab_type": "text"
      },
      "source": [
        " **Building the Model:**"
      ]
    },
    {
      "cell_type": "code",
      "metadata": {
        "trusted": true,
        "id": "UAX_KJgyhmmZ",
        "colab_type": "code",
        "colab": {}
      },
      "source": [
        "def model_defination(strategy,transformer):\n",
        "    with strategy.scope():\n",
        "        bert_encoder = TFAutoModel.from_pretrained(transformer)\n",
        "        input_layer = Input(shape=(30,), dtype=tf.int32, name=\"input_layer\")\n",
        "        sequence_output = bert_encoder(input_layer)[0]\n",
        "        cls_token = sequence_output[:, 0, :]\n",
        "        output_layer = Dense(3, activation='softmax')(cls_token)\n",
        "        model = Model(inputs=input_layer, outputs=output_layer)\n",
        "        model.compile(\n",
        "            Adam(lr=1e-5), \n",
        "            loss='sparse_categorical_crossentropy', \n",
        "            metrics=['accuracy']\n",
        "        )\n",
        "        return model"
      ],
      "execution_count": null,
      "outputs": []
    },
    {
      "cell_type": "code",
      "metadata": {
        "trusted": true,
        "id": "MyPK1-jFhmmb",
        "colab_type": "code",
        "colab": {},
        "outputId": "aa35636d-7611-4d9f-d1fc-0766b54d8fc0"
      },
      "source": [
        "model_bert=model_defination(strategy,\"bert-base-multilingual-cased\")"
      ],
      "execution_count": null,
      "outputs": [
        {
          "output_type": "display_data",
          "data": {
            "text/plain": [
              "HBox(children=(FloatProgress(value=0.0, description='Downloading', max=625.0, style=ProgressStyle(description_…"
            ],
            "application/vnd.jupyter.widget-view+json": {
              "version_major": 2,
              "version_minor": 0,
              "model_id": "de2c22e6c0d64f8096015ff276f54119"
            }
          },
          "metadata": {
            "tags": []
          }
        },
        {
          "output_type": "stream",
          "text": [
            "\n"
          ],
          "name": "stdout"
        },
        {
          "output_type": "display_data",
          "data": {
            "text/plain": [
              "HBox(children=(FloatProgress(value=0.0, description='Downloading', max=1083389348.0, style=ProgressStyle(descr…"
            ],
            "application/vnd.jupyter.widget-view+json": {
              "version_major": 2,
              "version_minor": 0,
              "model_id": "5479f27f9ff54d64ac1d0f5ece21812a"
            }
          },
          "metadata": {
            "tags": []
          }
        },
        {
          "output_type": "stream",
          "text": [
            "\n"
          ],
          "name": "stdout"
        }
      ]
    },
    {
      "cell_type": "code",
      "metadata": {
        "trusted": true,
        "id": "vxUz3Fuhhmmc",
        "colab_type": "code",
        "colab": {},
        "outputId": "e728b5dc-2258-490f-e661-6d7ea5f0377d"
      },
      "source": [
        "model_bert.summary()"
      ],
      "execution_count": null,
      "outputs": [
        {
          "output_type": "stream",
          "text": [
            "Model: \"model_4\"\n",
            "_________________________________________________________________\n",
            "Layer (type)                 Output Shape              Param #   \n",
            "=================================================================\n",
            "input_layer (InputLayer)     [(None, 30)]              0         \n",
            "_________________________________________________________________\n",
            "tf_bert_model (TFBertModel)  ((None, 30, 768), (None,  177853440 \n",
            "_________________________________________________________________\n",
            "tf_op_layer_strided_slice_4  [(None, 768)]             0         \n",
            "_________________________________________________________________\n",
            "dense_4 (Dense)              (None, 3)                 2307      \n",
            "=================================================================\n",
            "Total params: 177,855,747\n",
            "Trainable params: 177,855,747\n",
            "Non-trainable params: 0\n",
            "_________________________________________________________________\n"
          ],
          "name": "stdout"
        }
      ]
    },
    {
      "cell_type": "code",
      "metadata": {
        "trusted": true,
        "id": "99EJ8wJ_hmmf",
        "colab_type": "code",
        "colab": {}
      },
      "source": [
        "tokenizer_bert = BertTokenizer.from_pretrained('bert-base-multilingual-cased')"
      ],
      "execution_count": null,
      "outputs": []
    },
    {
      "cell_type": "code",
      "metadata": {
        "trusted": true,
        "id": "a1VZSWXehmmg",
        "colab_type": "code",
        "colab": {}
      },
      "source": [
        "train_set_bert = train_data[['premise','hypothesis']].values.tolist()\n",
        "test_set_bert = test_data[['premise','hypothesis']].values.tolist()"
      ],
      "execution_count": null,
      "outputs": []
    },
    {
      "cell_type": "code",
      "metadata": {
        "trusted": true,
        "id": "OiE_KY8Vhmmj",
        "colab_type": "code",
        "colab": {}
      },
      "source": [
        "encoded_train_bert = tokenizerb_1.batch_encode_plus(train_set_bert, pad_to_max_length=True, max_length=30)\n",
        "encoded_testb_bert = tokenizerb_1.batch_encode_plus(test_set_bert, pad_to_max_length=True, max_length=30)"
      ],
      "execution_count": null,
      "outputs": []
    },
    {
      "cell_type": "code",
      "metadata": {
        "trusted": true,
        "id": "DXElDcJ_hmmk",
        "colab_type": "code",
        "colab": {}
      },
      "source": [
        "X_train, X_valid, Y_train, Y_valid = train_test_split(encoded_train_bert['input_ids'], train_data.label.values, test_size=0.3)\n",
        "\n",
        "x_test = encoded_testb_bert['input_ids']"
      ],
      "execution_count": null,
      "outputs": []
    },
    {
      "cell_type": "code",
      "metadata": {
        "trusted": true,
        "id": "l4_S5k1mhmml",
        "colab_type": "code",
        "colab": {}
      },
      "source": [
        "train_df_bert = (tf.data.Dataset.from_tensor_slices((X_train, Y_train)).repeat().shuffle(2048).batch(BATCH_SIZE).prefetch(AUTO))\n",
        "\n",
        "valid_df_bert = (tf.data.Dataset.from_tensor_slices((X_valid, Y_valid)).batch(BATCH_SIZE).cache().prefetch(AUTO))\n",
        "\n",
        "test_df_bert = (tf.data.Dataset.from_tensor_slices(x_test).batch(BATCH_SIZE))"
      ],
      "execution_count": null,
      "outputs": []
    },
    {
      "cell_type": "code",
      "metadata": {
        "trusted": true,
        "id": "BjhZi3eqhmmm",
        "colab_type": "code",
        "colab": {},
        "outputId": "751a4518-65e1-4627-8f20-1a6a0c5777df"
      },
      "source": [
        "#Epochs=2\n",
        "modelbert = model_bert.fit(train_df_bert,steps_per_epoch=step,validation_data=valid_df_bert,epochs=2)"
      ],
      "execution_count": null,
      "outputs": [
        {
          "output_type": "stream",
          "text": [
            "Epoch 1/2\n",
            "94/94 [==============================] - 21s 224ms/step - loss: 1.0885 - accuracy: 0.3904 - val_loss: 1.0368 - val_accuracy: 0.4761\n",
            "Epoch 2/2\n",
            "94/94 [==============================] - 9s 96ms/step - loss: 0.9396 - accuracy: 0.5564 - val_loss: 0.9925 - val_accuracy: 0.5206\n"
          ],
          "name": "stdout"
        }
      ]
    },
    {
      "cell_type": "code",
      "metadata": {
        "trusted": true,
        "id": "Np5nh6DVhmmo",
        "colab_type": "code",
        "colab": {},
        "outputId": "0c657b60-9aad-4fc1-b8a7-a8b390ee3d72"
      },
      "source": [
        "#Epochs=3\n",
        "modelbert_3 = model_bert.fit(train_df_bert,steps_per_epoch=step,validation_data=valid_df_bert,epochs=3)"
      ],
      "execution_count": null,
      "outputs": [
        {
          "output_type": "stream",
          "text": [
            "Epoch 1/3\n",
            "94/94 [==============================] - 9s 95ms/step - loss: 0.8202 - accuracy: 0.6267 - val_loss: 1.0571 - val_accuracy: 0.5237\n",
            "Epoch 2/3\n",
            "94/94 [==============================] - 9s 97ms/step - loss: 0.6427 - accuracy: 0.7287 - val_loss: 1.2732 - val_accuracy: 0.5157\n",
            "Epoch 3/3\n",
            "94/94 [==============================] - 9s 96ms/step - loss: 0.4697 - accuracy: 0.8111 - val_loss: 1.4739 - val_accuracy: 0.5107\n"
          ],
          "name": "stdout"
        }
      ]
    },
    {
      "cell_type": "markdown",
      "metadata": {
        "id": "uD75ue6Jhmmq",
        "colab_type": "text"
      },
      "source": [
        "# **Visualization:**"
      ]
    },
    {
      "cell_type": "code",
      "metadata": {
        "trusted": true,
        "id": "nqqg66Lchmmq",
        "colab_type": "code",
        "colab": {},
        "outputId": "59bc5d3b-7211-45aa-b9a6-ad39e9fd7d2c"
      },
      "source": [
        "plt.figure(figsize=(15, 5))\n",
        "\n",
        "plt.subplot(121)\n",
        "plt.plot(modelbert.history['loss'], label = 'Train_data Loss')\n",
        "plt.plot(modelbert.history['val_loss'], label = 'test_data loss')\n",
        "plt.title(\"Curve at epoch=2\")\n",
        "plt.legend()\n",
        "\n",
        "plt.subplot(122)\n",
        "plt.plot(modelbert.history['accuracy'], label = 'Train_data accuracy')\n",
        "plt.plot(modelbert.history['val_accuracy'], label = 'Validation_data accuracy')\n",
        "plt.title(\"Curve at epoch=2\")\n",
        "plt.legend()"
      ],
      "execution_count": null,
      "outputs": [
        {
          "output_type": "execute_result",
          "data": {
            "text/plain": [
              "<matplotlib.legend.Legend at 0x7fef4a3d7810>"
            ]
          },
          "metadata": {
            "tags": []
          },
          "execution_count": 75
        },
        {
          "output_type": "display_data",
          "data": {
            "text/plain": [
              "<Figure size 1080x360 with 2 Axes>"
            ],
            "image/png": "[encoded data removed]"
          },
          "metadata": {
            "tags": [],
            "needs_background": "light"
          }
        }
      ]
    },
    {
      "cell_type": "code",
      "metadata": {
        "trusted": true,
        "id": "3RYRwZPMhmmr",
        "colab_type": "code",
        "colab": {},
        "outputId": "e867c81b-7812-4de7-e178-6cce8506954b"
      },
      "source": [
        "plt.figure(figsize=(15, 5))\n",
        "\n",
        "plt.subplot(121)\n",
        "plt.plot(modelbert_3.history['loss'], label = 'Train_data Loss')\n",
        "plt.plot(modelbert_3.history['val_loss'], label = 'test_data loss')\n",
        "plt.title(\"Curve at epoch=3\")\n",
        "plt.legend()\n",
        "\n",
        "plt.subplot(122)\n",
        "plt.plot(modelbert_3.history['accuracy'], label = 'Train_data accuracy')\n",
        "plt.plot(modelbert_3.history['val_accuracy'], label = 'Validation_data accuracy')\n",
        "plt.title(\"Curve at epoch=3\")\n",
        "plt.legend()"
      ],
      "execution_count": null,
      "outputs": [
        {
          "output_type": "execute_result",
          "data": {
            "text/plain": [
              "<matplotlib.legend.Legend at 0x7fef4a1bdcd0>"
            ]
          },
          "metadata": {
            "tags": []
          },
          "execution_count": 76
        },
        {
          "output_type": "display_data",
          "data": {
            "text/plain": [
              "<Figure size 1080x360 with 2 Axes>"
            ],
            "image/png": "[encoded data removed]"
          },
          "metadata": {
            "tags": [],
            "needs_background": "light"
          }
        }
      ]
    },
    {
      "cell_type": "markdown",
      "metadata": {
        "id": "J_8KRY9Rhmmt",
        "colab_type": "text"
      },
      "source": [
        "**OBSERVATION:**\n",
        "\n",
        "\n",
        "* For the model Bert-base-multilingual-cased the model performs well at epoch = 2"
      ]
    },
    {
      "cell_type": "markdown",
      "metadata": {
        "id": "1Q9BEc12hmmt",
        "colab_type": "text"
      },
      "source": [
        "**Comparing the results of all the Models:**\n",
        "\n",
        " \n",
        " Model_names                             |  epoch value |  loss    | val_loss  | accuracy | val_accuracy |\n",
        " ----------------------------------------|--------------|----------|-----------|----------|--------------|\n",
        " XLM-RoBERTa Model: (Large)              |   3          | 0.77     | 0.77      |  0.64    |  0.64        |\n",
        " XLM-RoBERTa Model: (Base)               |   3          | 0.93     | 0.91      |  0.54    |  0.57        |\n",
        " distilbert-base-multilingual-cased      |   3          | 0.88     | 1.03      |  0.58    |  0.49        |\n",
        " distilbert-base-multilingual-cased(2nd) |   3          | -4.001   | -3.30     |  0.39    |  0.40        |     \n",
        " Bert-base-multilingual-cased            |   2          | 0.93     | 0.99      |  0.55    |  0.52        |\n"
      ]
    },
    {
      "cell_type": "code",
      "metadata": {
        "trusted": true,
        "id": "NBpHlxdzhmmt",
        "colab_type": "code",
        "colab": {},
        "outputId": "13e4954d-2773-4505-b7dc-9b5dae104951"
      },
      "source": [
        "plt.figure(figsize=(15, 5))\n",
        "\n",
        "plt.plot(model_3.history['loss'], label = 'Train_data Loss')\n",
        "\n",
        "plt.plot(model_3.history['val_loss'], label = 'test_data loss')\n",
        "\n",
        "plt.plot(model1_3.history['loss'], label = 'Train_data Loss')\n",
        "\n",
        "plt.plot(model1_3.history['val_loss'], label = 'test_data loss')\n",
        "\n",
        "plt.plot(modelb.history['loss'], label = 'Train_data Loss')\n",
        "\n",
        "plt.plot(modelb.history['val_loss'], label = 'test_data loss')\n",
        "\n",
        "plt.plot(model_b_1.history['loss'], label = 'Train_data Loss')\n",
        "\n",
        "plt.plot(model_b_1.history['val_loss'], label = 'test_data loss')\n",
        "\n",
        "plt.plot(modelbert.history['loss'], label = 'Train_data Loss')\n",
        "\n",
        "plt.plot(modelbert.history['val_loss'], label = 'test_data loss')\n",
        "\n",
        "plt.title(\"Curves of different models for loss and val_loss\")\n",
        "\n",
        "plt.legend()\n"
      ],
      "execution_count": null,
      "outputs": [
        {
          "output_type": "execute_result",
          "data": {
            "text/plain": [
              "<matplotlib.legend.Legend at 0x7fef48e16490>"
            ]
          },
          "metadata": {
            "tags": []
          },
          "execution_count": 81
        },
        {
          "output_type": "error",
          "ename": "ValueError",
          "evalue": "Invalid RGBA argument: 'sky blue'",
          "traceback": [
            "\u001b[0;31m---------------------------------------------------------------------------\u001b[0m",
            "\u001b[0;31mValueError\u001b[0m                                Traceback (most recent call last)",
            "\u001b[0;32m/opt/conda/lib/python3.7/site-packages/IPython/core/formatters.py\u001b[0m in \u001b[0;36m__call__\u001b[0;34m(self, obj)\u001b[0m\n\u001b[1;32m    339\u001b[0m                 \u001b[0;32mpass\u001b[0m\u001b[0;34m\u001b[0m\u001b[0;34m\u001b[0m\u001b[0m\n\u001b[1;32m    340\u001b[0m             \u001b[0;32melse\u001b[0m\u001b[0;34m:\u001b[0m\u001b[0;34m\u001b[0m\u001b[0;34m\u001b[0m\u001b[0m\n\u001b[0;32m--> 341\u001b[0;31m                 \u001b[0;32mreturn\u001b[0m \u001b[0mprinter\u001b[0m\u001b[0;34m(\u001b[0m\u001b[0mobj\u001b[0m\u001b[0;34m)\u001b[0m\u001b[0;34m\u001b[0m\u001b[0;34m\u001b[0m\u001b[0m\n\u001b[0m\u001b[1;32m    342\u001b[0m             \u001b[0;31m# Finally look for special method names\u001b[0m\u001b[0;34m\u001b[0m\u001b[0;34m\u001b[0m\u001b[0;34m\u001b[0m\u001b[0m\n\u001b[1;32m    343\u001b[0m             \u001b[0mmethod\u001b[0m \u001b[0;34m=\u001b[0m \u001b[0mget_real_method\u001b[0m\u001b[0;34m(\u001b[0m\u001b[0mobj\u001b[0m\u001b[0;34m,\u001b[0m \u001b[0mself\u001b[0m\u001b[0;34m.\u001b[0m\u001b[0mprint_method\u001b[0m\u001b[0;34m)\u001b[0m\u001b[0;34m\u001b[0m\u001b[0;34m\u001b[0m\u001b[0m\n",
            "\u001b[0;32m/opt/conda/lib/python3.7/site-packages/IPython/core/pylabtools.py\u001b[0m in \u001b[0;36m<lambda>\u001b[0;34m(fig)\u001b[0m\n\u001b[1;32m    246\u001b[0m \u001b[0;34m\u001b[0m\u001b[0m\n\u001b[1;32m    247\u001b[0m     \u001b[0;32mif\u001b[0m \u001b[0;34m'png'\u001b[0m \u001b[0;32min\u001b[0m \u001b[0mformats\u001b[0m\u001b[0;34m:\u001b[0m\u001b[0;34m\u001b[0m\u001b[0;34m\u001b[0m\u001b[0m\n\u001b[0;32m--> 248\u001b[0;31m         \u001b[0mpng_formatter\u001b[0m\u001b[0;34m.\u001b[0m\u001b[0mfor_type\u001b[0m\u001b[0;34m(\u001b[0m\u001b[0mFigure\u001b[0m\u001b[0;34m,\u001b[0m \u001b[0;32mlambda\u001b[0m \u001b[0mfig\u001b[0m\u001b[0;34m:\u001b[0m \u001b[0mprint_figure\u001b[0m\u001b[0;34m(\u001b[0m\u001b[0mfig\u001b[0m\u001b[0;34m,\u001b[0m \u001b[0;34m'png'\u001b[0m\u001b[0;34m,\u001b[0m \u001b[0;34m**\u001b[0m\u001b[0mkwargs\u001b[0m\u001b[0;34m)\u001b[0m\u001b[0;34m)\u001b[0m\u001b[0;34m\u001b[0m\u001b[0;34m\u001b[0m\u001b[0m\n\u001b[0m\u001b[1;32m    249\u001b[0m     \u001b[0;32mif\u001b[0m \u001b[0;34m'retina'\u001b[0m \u001b[0;32min\u001b[0m \u001b[0mformats\u001b[0m \u001b[0;32mor\u001b[0m \u001b[0;34m'png2x'\u001b[0m \u001b[0;32min\u001b[0m \u001b[0mformats\u001b[0m\u001b[0;34m:\u001b[0m\u001b[0;34m\u001b[0m\u001b[0;34m\u001b[0m\u001b[0m\n\u001b[1;32m    250\u001b[0m         \u001b[0mpng_formatter\u001b[0m\u001b[0;34m.\u001b[0m\u001b[0mfor_type\u001b[0m\u001b[0;34m(\u001b[0m\u001b[0mFigure\u001b[0m\u001b[0;34m,\u001b[0m \u001b[0;32mlambda\u001b[0m \u001b[0mfig\u001b[0m\u001b[0;34m:\u001b[0m \u001b[0mretina_figure\u001b[0m\u001b[0;34m(\u001b[0m\u001b[0mfig\u001b[0m\u001b[0;34m,\u001b[0m \u001b[0;34m**\u001b[0m\u001b[0mkwargs\u001b[0m\u001b[0;34m)\u001b[0m\u001b[0;34m)\u001b[0m\u001b[0;34m\u001b[0m\u001b[0;34m\u001b[0m\u001b[0m\n",
            "\u001b[0;32m/opt/conda/lib/python3.7/site-packages/IPython/core/pylabtools.py\u001b[0m in \u001b[0;36mprint_figure\u001b[0;34m(fig, fmt, bbox_inches, **kwargs)\u001b[0m\n\u001b[1;32m    130\u001b[0m         \u001b[0mFigureCanvasBase\u001b[0m\u001b[0;34m(\u001b[0m\u001b[0mfig\u001b[0m\u001b[0;34m)\u001b[0m\u001b[0;34m\u001b[0m\u001b[0;34m\u001b[0m\u001b[0m\n\u001b[1;32m    131\u001b[0m \u001b[0;34m\u001b[0m\u001b[0m\n\u001b[0;32m--> 132\u001b[0;31m     \u001b[0mfig\u001b[0m\u001b[0;34m.\u001b[0m\u001b[0mcanvas\u001b[0m\u001b[0;34m.\u001b[0m\u001b[0mprint_figure\u001b[0m\u001b[0;34m(\u001b[0m\u001b[0mbytes_io\u001b[0m\u001b[0;34m,\u001b[0m \u001b[0;34m**\u001b[0m\u001b[0mkw\u001b[0m\u001b[0;34m)\u001b[0m\u001b[0;34m\u001b[0m\u001b[0;34m\u001b[0m\u001b[0m\n\u001b[0m\u001b[1;32m    133\u001b[0m     \u001b[0mdata\u001b[0m \u001b[0;34m=\u001b[0m \u001b[0mbytes_io\u001b[0m\u001b[0;34m.\u001b[0m\u001b[0mgetvalue\u001b[0m\u001b[0;34m(\u001b[0m\u001b[0;34m)\u001b[0m\u001b[0;34m\u001b[0m\u001b[0;34m\u001b[0m\u001b[0m\n\u001b[1;32m    134\u001b[0m     \u001b[0;32mif\u001b[0m \u001b[0mfmt\u001b[0m \u001b[0;34m==\u001b[0m \u001b[0;34m'svg'\u001b[0m\u001b[0;34m:\u001b[0m\u001b[0;34m\u001b[0m\u001b[0;34m\u001b[0m\u001b[0m\n",
            "\u001b[0;32m/opt/conda/lib/python3.7/site-packages/matplotlib/backend_bases.py\u001b[0m in \u001b[0;36mprint_figure\u001b[0;34m(self, filename, dpi, facecolor, edgecolor, orientation, format, bbox_inches, **kwargs)\u001b[0m\n\u001b[1;32m   2077\u001b[0m                             print_method, dpi=dpi, orientation=orientation),\n\u001b[1;32m   2078\u001b[0m                         draw_disabled=True)\n\u001b[0;32m-> 2079\u001b[0;31m                     \u001b[0mself\u001b[0m\u001b[0;34m.\u001b[0m\u001b[0mfigure\u001b[0m\u001b[0;34m.\u001b[0m\u001b[0mdraw\u001b[0m\u001b[0;34m(\u001b[0m\u001b[0mrenderer\u001b[0m\u001b[0;34m)\u001b[0m\u001b[0;34m\u001b[0m\u001b[0;34m\u001b[0m\u001b[0m\n\u001b[0m\u001b[1;32m   2080\u001b[0m                     \u001b[0mbbox_artists\u001b[0m \u001b[0;34m=\u001b[0m \u001b[0mkwargs\u001b[0m\u001b[0;34m.\u001b[0m\u001b[0mpop\u001b[0m\u001b[0;34m(\u001b[0m\u001b[0;34m\"bbox_extra_artists\"\u001b[0m\u001b[0;34m,\u001b[0m \u001b[0;32mNone\u001b[0m\u001b[0;34m)\u001b[0m\u001b[0;34m\u001b[0m\u001b[0;34m\u001b[0m\u001b[0m\n\u001b[1;32m   2081\u001b[0m                     bbox_inches = self.figure.get_tightbbox(renderer,\n",
            "\u001b[0;32m/opt/conda/lib/python3.7/site-packages/matplotlib/artist.py\u001b[0m in \u001b[0;36mdraw_wrapper\u001b[0;34m(artist, renderer, *args, **kwargs)\u001b[0m\n\u001b[1;32m     36\u001b[0m                 \u001b[0mrenderer\u001b[0m\u001b[0;34m.\u001b[0m\u001b[0mstart_filter\u001b[0m\u001b[0;34m(\u001b[0m\u001b[0;34m)\u001b[0m\u001b[0;34m\u001b[0m\u001b[0;34m\u001b[0m\u001b[0m\n\u001b[1;32m     37\u001b[0m \u001b[0;34m\u001b[0m\u001b[0m\n\u001b[0;32m---> 38\u001b[0;31m             \u001b[0;32mreturn\u001b[0m \u001b[0mdraw\u001b[0m\u001b[0;34m(\u001b[0m\u001b[0martist\u001b[0m\u001b[0;34m,\u001b[0m \u001b[0mrenderer\u001b[0m\u001b[0;34m,\u001b[0m \u001b[0;34m*\u001b[0m\u001b[0margs\u001b[0m\u001b[0;34m,\u001b[0m \u001b[0;34m**\u001b[0m\u001b[0mkwargs\u001b[0m\u001b[0;34m)\u001b[0m\u001b[0;34m\u001b[0m\u001b[0;34m\u001b[0m\u001b[0m\n\u001b[0m\u001b[1;32m     39\u001b[0m         \u001b[0;32mfinally\u001b[0m\u001b[0;34m:\u001b[0m\u001b[0;34m\u001b[0m\u001b[0;34m\u001b[0m\u001b[0m\n\u001b[1;32m     40\u001b[0m             \u001b[0;32mif\u001b[0m \u001b[0martist\u001b[0m\u001b[0;34m.\u001b[0m\u001b[0mget_agg_filter\u001b[0m\u001b[0;34m(\u001b[0m\u001b[0;34m)\u001b[0m \u001b[0;32mis\u001b[0m \u001b[0;32mnot\u001b[0m \u001b[0;32mNone\u001b[0m\u001b[0;34m:\u001b[0m\u001b[0;34m\u001b[0m\u001b[0;34m\u001b[0m\u001b[0m\n",
            "\u001b[0;32m/opt/conda/lib/python3.7/site-packages/matplotlib/figure.py\u001b[0m in \u001b[0;36mdraw\u001b[0;34m(self, renderer)\u001b[0m\n\u001b[1;32m   1734\u001b[0m             \u001b[0mself\u001b[0m\u001b[0;34m.\u001b[0m\u001b[0mpatch\u001b[0m\u001b[0;34m.\u001b[0m\u001b[0mdraw\u001b[0m\u001b[0;34m(\u001b[0m\u001b[0mrenderer\u001b[0m\u001b[0;34m)\u001b[0m\u001b[0;34m\u001b[0m\u001b[0;34m\u001b[0m\u001b[0m\n\u001b[1;32m   1735\u001b[0m             mimage._draw_list_compositing_images(\n\u001b[0;32m-> 1736\u001b[0;31m                 renderer, self, artists, self.suppressComposite)\n\u001b[0m\u001b[1;32m   1737\u001b[0m \u001b[0;34m\u001b[0m\u001b[0m\n\u001b[1;32m   1738\u001b[0m             \u001b[0mrenderer\u001b[0m\u001b[0;34m.\u001b[0m\u001b[0mclose_group\u001b[0m\u001b[0;34m(\u001b[0m\u001b[0;34m'figure'\u001b[0m\u001b[0;34m)\u001b[0m\u001b[0;34m\u001b[0m\u001b[0;34m\u001b[0m\u001b[0m\n",
            "\u001b[0;32m/opt/conda/lib/python3.7/site-packages/matplotlib/image.py\u001b[0m in \u001b[0;36m_draw_list_compositing_images\u001b[0;34m(renderer, parent, artists, suppress_composite)\u001b[0m\n\u001b[1;32m    135\u001b[0m     \u001b[0;32mif\u001b[0m \u001b[0mnot_composite\u001b[0m \u001b[0;32mor\u001b[0m \u001b[0;32mnot\u001b[0m \u001b[0mhas_images\u001b[0m\u001b[0;34m:\u001b[0m\u001b[0;34m\u001b[0m\u001b[0;34m\u001b[0m\u001b[0m\n\u001b[1;32m    136\u001b[0m         \u001b[0;32mfor\u001b[0m \u001b[0ma\u001b[0m \u001b[0;32min\u001b[0m \u001b[0martists\u001b[0m\u001b[0;34m:\u001b[0m\u001b[0;34m\u001b[0m\u001b[0;34m\u001b[0m\u001b[0m\n\u001b[0;32m--> 137\u001b[0;31m             \u001b[0ma\u001b[0m\u001b[0;34m.\u001b[0m\u001b[0mdraw\u001b[0m\u001b[0;34m(\u001b[0m\u001b[0mrenderer\u001b[0m\u001b[0;34m)\u001b[0m\u001b[0;34m\u001b[0m\u001b[0;34m\u001b[0m\u001b[0m\n\u001b[0m\u001b[1;32m    138\u001b[0m     \u001b[0;32melse\u001b[0m\u001b[0;34m:\u001b[0m\u001b[0;34m\u001b[0m\u001b[0;34m\u001b[0m\u001b[0m\n\u001b[1;32m    139\u001b[0m         \u001b[0;31m# Composite any adjacent images together\u001b[0m\u001b[0;34m\u001b[0m\u001b[0;34m\u001b[0m\u001b[0;34m\u001b[0m\u001b[0m\n",
            "\u001b[0;32m/opt/conda/lib/python3.7/site-packages/matplotlib/artist.py\u001b[0m in \u001b[0;36mdraw_wrapper\u001b[0;34m(artist, renderer, *args, **kwargs)\u001b[0m\n\u001b[1;32m     36\u001b[0m                 \u001b[0mrenderer\u001b[0m\u001b[0;34m.\u001b[0m\u001b[0mstart_filter\u001b[0m\u001b[0;34m(\u001b[0m\u001b[0;34m)\u001b[0m\u001b[0;34m\u001b[0m\u001b[0;34m\u001b[0m\u001b[0m\n\u001b[1;32m     37\u001b[0m \u001b[0;34m\u001b[0m\u001b[0m\n\u001b[0;32m---> 38\u001b[0;31m             \u001b[0;32mreturn\u001b[0m \u001b[0mdraw\u001b[0m\u001b[0;34m(\u001b[0m\u001b[0martist\u001b[0m\u001b[0;34m,\u001b[0m \u001b[0mrenderer\u001b[0m\u001b[0;34m,\u001b[0m \u001b[0;34m*\u001b[0m\u001b[0margs\u001b[0m\u001b[0;34m,\u001b[0m \u001b[0;34m**\u001b[0m\u001b[0mkwargs\u001b[0m\u001b[0;34m)\u001b[0m\u001b[0;34m\u001b[0m\u001b[0;34m\u001b[0m\u001b[0m\n\u001b[0m\u001b[1;32m     39\u001b[0m         \u001b[0;32mfinally\u001b[0m\u001b[0;34m:\u001b[0m\u001b[0;34m\u001b[0m\u001b[0;34m\u001b[0m\u001b[0m\n\u001b[1;32m     40\u001b[0m             \u001b[0;32mif\u001b[0m \u001b[0martist\u001b[0m\u001b[0;34m.\u001b[0m\u001b[0mget_agg_filter\u001b[0m\u001b[0;34m(\u001b[0m\u001b[0;34m)\u001b[0m \u001b[0;32mis\u001b[0m \u001b[0;32mnot\u001b[0m \u001b[0;32mNone\u001b[0m\u001b[0;34m:\u001b[0m\u001b[0;34m\u001b[0m\u001b[0;34m\u001b[0m\u001b[0m\n",
            "\u001b[0;32m/opt/conda/lib/python3.7/site-packages/matplotlib/axes/_base.py\u001b[0m in \u001b[0;36mdraw\u001b[0;34m(self, renderer, inframe)\u001b[0m\n\u001b[1;32m   2628\u001b[0m             \u001b[0mrenderer\u001b[0m\u001b[0;34m.\u001b[0m\u001b[0mstop_rasterizing\u001b[0m\u001b[0;34m(\u001b[0m\u001b[0;34m)\u001b[0m\u001b[0;34m\u001b[0m\u001b[0;34m\u001b[0m\u001b[0m\n\u001b[1;32m   2629\u001b[0m \u001b[0;34m\u001b[0m\u001b[0m\n\u001b[0;32m-> 2630\u001b[0;31m         \u001b[0mmimage\u001b[0m\u001b[0;34m.\u001b[0m\u001b[0m_draw_list_compositing_images\u001b[0m\u001b[0;34m(\u001b[0m\u001b[0mrenderer\u001b[0m\u001b[0;34m,\u001b[0m \u001b[0mself\u001b[0m\u001b[0;34m,\u001b[0m \u001b[0martists\u001b[0m\u001b[0;34m)\u001b[0m\u001b[0;34m\u001b[0m\u001b[0;34m\u001b[0m\u001b[0m\n\u001b[0m\u001b[1;32m   2631\u001b[0m \u001b[0;34m\u001b[0m\u001b[0m\n\u001b[1;32m   2632\u001b[0m         \u001b[0mrenderer\u001b[0m\u001b[0;34m.\u001b[0m\u001b[0mclose_group\u001b[0m\u001b[0;34m(\u001b[0m\u001b[0;34m'axes'\u001b[0m\u001b[0;34m)\u001b[0m\u001b[0;34m\u001b[0m\u001b[0;34m\u001b[0m\u001b[0m\n",
            "\u001b[0;32m/opt/conda/lib/python3.7/site-packages/matplotlib/image.py\u001b[0m in \u001b[0;36m_draw_list_compositing_images\u001b[0;34m(renderer, parent, artists, suppress_composite)\u001b[0m\n\u001b[1;32m    135\u001b[0m     \u001b[0;32mif\u001b[0m \u001b[0mnot_composite\u001b[0m \u001b[0;32mor\u001b[0m \u001b[0;32mnot\u001b[0m \u001b[0mhas_images\u001b[0m\u001b[0;34m:\u001b[0m\u001b[0;34m\u001b[0m\u001b[0;34m\u001b[0m\u001b[0m\n\u001b[1;32m    136\u001b[0m         \u001b[0;32mfor\u001b[0m \u001b[0ma\u001b[0m \u001b[0;32min\u001b[0m \u001b[0martists\u001b[0m\u001b[0;34m:\u001b[0m\u001b[0;34m\u001b[0m\u001b[0;34m\u001b[0m\u001b[0m\n\u001b[0;32m--> 137\u001b[0;31m             \u001b[0ma\u001b[0m\u001b[0;34m.\u001b[0m\u001b[0mdraw\u001b[0m\u001b[0;34m(\u001b[0m\u001b[0mrenderer\u001b[0m\u001b[0;34m)\u001b[0m\u001b[0;34m\u001b[0m\u001b[0;34m\u001b[0m\u001b[0m\n\u001b[0m\u001b[1;32m    138\u001b[0m     \u001b[0;32melse\u001b[0m\u001b[0;34m:\u001b[0m\u001b[0;34m\u001b[0m\u001b[0;34m\u001b[0m\u001b[0m\n\u001b[1;32m    139\u001b[0m         \u001b[0;31m# Composite any adjacent images together\u001b[0m\u001b[0;34m\u001b[0m\u001b[0;34m\u001b[0m\u001b[0;34m\u001b[0m\u001b[0m\n",
            "\u001b[0;32m/opt/conda/lib/python3.7/site-packages/matplotlib/artist.py\u001b[0m in \u001b[0;36mdraw_wrapper\u001b[0;34m(artist, renderer, *args, **kwargs)\u001b[0m\n\u001b[1;32m     36\u001b[0m                 \u001b[0mrenderer\u001b[0m\u001b[0;34m.\u001b[0m\u001b[0mstart_filter\u001b[0m\u001b[0;34m(\u001b[0m\u001b[0;34m)\u001b[0m\u001b[0;34m\u001b[0m\u001b[0;34m\u001b[0m\u001b[0m\n\u001b[1;32m     37\u001b[0m \u001b[0;34m\u001b[0m\u001b[0m\n\u001b[0;32m---> 38\u001b[0;31m             \u001b[0;32mreturn\u001b[0m \u001b[0mdraw\u001b[0m\u001b[0;34m(\u001b[0m\u001b[0martist\u001b[0m\u001b[0;34m,\u001b[0m \u001b[0mrenderer\u001b[0m\u001b[0;34m,\u001b[0m \u001b[0;34m*\u001b[0m\u001b[0margs\u001b[0m\u001b[0;34m,\u001b[0m \u001b[0;34m**\u001b[0m\u001b[0mkwargs\u001b[0m\u001b[0;34m)\u001b[0m\u001b[0;34m\u001b[0m\u001b[0;34m\u001b[0m\u001b[0m\n\u001b[0m\u001b[1;32m     39\u001b[0m         \u001b[0;32mfinally\u001b[0m\u001b[0;34m:\u001b[0m\u001b[0;34m\u001b[0m\u001b[0;34m\u001b[0m\u001b[0m\n\u001b[1;32m     40\u001b[0m             \u001b[0;32mif\u001b[0m \u001b[0martist\u001b[0m\u001b[0;34m.\u001b[0m\u001b[0mget_agg_filter\u001b[0m\u001b[0;34m(\u001b[0m\u001b[0;34m)\u001b[0m \u001b[0;32mis\u001b[0m \u001b[0;32mnot\u001b[0m \u001b[0;32mNone\u001b[0m\u001b[0;34m:\u001b[0m\u001b[0;34m\u001b[0m\u001b[0;34m\u001b[0m\u001b[0m\n",
            "\u001b[0;32m/opt/conda/lib/python3.7/site-packages/matplotlib/lines.py\u001b[0m in \u001b[0;36mdraw\u001b[0;34m(self, renderer)\u001b[0m\n\u001b[1;32m    781\u001b[0m                 \u001b[0mself\u001b[0m\u001b[0;34m.\u001b[0m\u001b[0m_set_gc_clip\u001b[0m\u001b[0;34m(\u001b[0m\u001b[0mgc\u001b[0m\u001b[0;34m)\u001b[0m\u001b[0;34m\u001b[0m\u001b[0;34m\u001b[0m\u001b[0m\n\u001b[1;32m    782\u001b[0m \u001b[0;34m\u001b[0m\u001b[0m\n\u001b[0;32m--> 783\u001b[0;31m                 \u001b[0mlc_rgba\u001b[0m \u001b[0;34m=\u001b[0m \u001b[0mmcolors\u001b[0m\u001b[0;34m.\u001b[0m\u001b[0mto_rgba\u001b[0m\u001b[0;34m(\u001b[0m\u001b[0mself\u001b[0m\u001b[0;34m.\u001b[0m\u001b[0m_color\u001b[0m\u001b[0;34m,\u001b[0m \u001b[0mself\u001b[0m\u001b[0;34m.\u001b[0m\u001b[0m_alpha\u001b[0m\u001b[0;34m)\u001b[0m\u001b[0;34m\u001b[0m\u001b[0;34m\u001b[0m\u001b[0m\n\u001b[0m\u001b[1;32m    784\u001b[0m                 \u001b[0mgc\u001b[0m\u001b[0;34m.\u001b[0m\u001b[0mset_foreground\u001b[0m\u001b[0;34m(\u001b[0m\u001b[0mlc_rgba\u001b[0m\u001b[0;34m,\u001b[0m \u001b[0misRGBA\u001b[0m\u001b[0;34m=\u001b[0m\u001b[0;32mTrue\u001b[0m\u001b[0;34m)\u001b[0m\u001b[0;34m\u001b[0m\u001b[0;34m\u001b[0m\u001b[0m\n\u001b[1;32m    785\u001b[0m \u001b[0;34m\u001b[0m\u001b[0m\n",
            "\u001b[0;32m/opt/conda/lib/python3.7/site-packages/matplotlib/colors.py\u001b[0m in \u001b[0;36mto_rgba\u001b[0;34m(c, alpha)\u001b[0m\n\u001b[1;32m    183\u001b[0m         \u001b[0mrgba\u001b[0m \u001b[0;34m=\u001b[0m \u001b[0;32mNone\u001b[0m\u001b[0;34m\u001b[0m\u001b[0;34m\u001b[0m\u001b[0m\n\u001b[1;32m    184\u001b[0m     \u001b[0;32mif\u001b[0m \u001b[0mrgba\u001b[0m \u001b[0;32mis\u001b[0m \u001b[0;32mNone\u001b[0m\u001b[0;34m:\u001b[0m  \u001b[0;31m# Suppress exception chaining of cache lookup failure.\u001b[0m\u001b[0;34m\u001b[0m\u001b[0;34m\u001b[0m\u001b[0m\n\u001b[0;32m--> 185\u001b[0;31m         \u001b[0mrgba\u001b[0m \u001b[0;34m=\u001b[0m \u001b[0m_to_rgba_no_colorcycle\u001b[0m\u001b[0;34m(\u001b[0m\u001b[0mc\u001b[0m\u001b[0;34m,\u001b[0m \u001b[0malpha\u001b[0m\u001b[0;34m)\u001b[0m\u001b[0;34m\u001b[0m\u001b[0;34m\u001b[0m\u001b[0m\n\u001b[0m\u001b[1;32m    186\u001b[0m         \u001b[0;32mtry\u001b[0m\u001b[0;34m:\u001b[0m\u001b[0;34m\u001b[0m\u001b[0;34m\u001b[0m\u001b[0m\n\u001b[1;32m    187\u001b[0m             \u001b[0m_colors_full_map\u001b[0m\u001b[0;34m.\u001b[0m\u001b[0mcache\u001b[0m\u001b[0;34m[\u001b[0m\u001b[0mc\u001b[0m\u001b[0;34m,\u001b[0m \u001b[0malpha\u001b[0m\u001b[0;34m]\u001b[0m \u001b[0;34m=\u001b[0m \u001b[0mrgba\u001b[0m\u001b[0;34m\u001b[0m\u001b[0;34m\u001b[0m\u001b[0m\n",
            "\u001b[0;32m/opt/conda/lib/python3.7/site-packages/matplotlib/colors.py\u001b[0m in \u001b[0;36m_to_rgba_no_colorcycle\u001b[0;34m(c, alpha)\u001b[0m\n\u001b[1;32m    259\u001b[0m                     f\"Value must be within 0-1 range\")\n\u001b[1;32m    260\u001b[0m             \u001b[0;32mreturn\u001b[0m \u001b[0mc\u001b[0m\u001b[0;34m,\u001b[0m \u001b[0mc\u001b[0m\u001b[0;34m,\u001b[0m \u001b[0mc\u001b[0m\u001b[0;34m,\u001b[0m \u001b[0malpha\u001b[0m \u001b[0;32mif\u001b[0m \u001b[0malpha\u001b[0m \u001b[0;32mis\u001b[0m \u001b[0;32mnot\u001b[0m \u001b[0;32mNone\u001b[0m \u001b[0;32melse\u001b[0m \u001b[0;36m1.\u001b[0m\u001b[0;34m\u001b[0m\u001b[0;34m\u001b[0m\u001b[0m\n\u001b[0;32m--> 261\u001b[0;31m         \u001b[0;32mraise\u001b[0m \u001b[0mValueError\u001b[0m\u001b[0;34m(\u001b[0m\u001b[0;34mf\"Invalid RGBA argument: {orig_c!r}\"\u001b[0m\u001b[0;34m)\u001b[0m\u001b[0;34m\u001b[0m\u001b[0;34m\u001b[0m\u001b[0m\n\u001b[0m\u001b[1;32m    262\u001b[0m     \u001b[0;31m# tuple color.\u001b[0m\u001b[0;34m\u001b[0m\u001b[0;34m\u001b[0m\u001b[0;34m\u001b[0m\u001b[0m\n\u001b[1;32m    263\u001b[0m     \u001b[0mc\u001b[0m \u001b[0;34m=\u001b[0m \u001b[0mnp\u001b[0m\u001b[0;34m.\u001b[0m\u001b[0marray\u001b[0m\u001b[0;34m(\u001b[0m\u001b[0mc\u001b[0m\u001b[0;34m)\u001b[0m\u001b[0;34m\u001b[0m\u001b[0;34m\u001b[0m\u001b[0m\n",
            "\u001b[0;31mValueError\u001b[0m: Invalid RGBA argument: 'sky blue'"
          ]
        },
        {
          "output_type": "display_data",
          "data": {
            "text/plain": [
              "<Figure size 1080x360 with 1 Axes>"
            ]
          },
          "metadata": {
            "tags": [],
            "needs_background": "light"
          }
        }
      ]
    },
    {
      "cell_type": "code",
      "metadata": {
        "trusted": true,
        "id": "Vk9aEb5rhmmv",
        "colab_type": "code",
        "colab": {},
        "outputId": "b5a3c138-2e47-49f3-9fa9-a89ca4ba2353"
      },
      "source": [
        "plt.figure(figsize=(10, 5))\n",
        "\n",
        "plt.plot(model_3.history['accuracy'], label = 'Train_data accuracy')\n",
        "\n",
        "plt.plot(model_3.history['val_accuracy'], label = 'Validation_data accuracy')\n",
        "\n",
        "plt.plot(model1_3.history['accuracy'], label = 'Train_data accuracy')\n",
        "\n",
        "plt.plot(model1_3.history['val_accuracy'], label = 'Validation_data accuracy')\n",
        "\n",
        "plt.plot(modelb.history['accuracy'], label = 'Train_data accuracy')\n",
        "\n",
        "plt.plot(modelb.history['val_accuracy'], label = 'Validation_data accuracy')\n",
        "\n",
        "plt.plot(model_b_1.history['accuracy'], label = 'Train_data accuracy')\n",
        "\n",
        "plt.plot(model_b_1.history['val_accuracy'], label = 'Validation_data accuracy')\n",
        "\n",
        "plt.plot(modelbert.history['accuracy'], label = 'Train_data accuracy')\n",
        "\n",
        "plt.plot(modelbert.history['val_accuracy'], label = 'Validation_data accuracy')\n",
        "\n",
        "plt.title(\"Curves of different models for accuracy and val_accuracy\")\n",
        "\n",
        "plt.legend()"
      ],
      "execution_count": null,
      "outputs": [
        {
          "output_type": "execute_result",
          "data": {
            "text/plain": [
              "<matplotlib.legend.Legend at 0x7fef48ee02d0>"
            ]
          },
          "metadata": {
            "tags": []
          },
          "execution_count": 80
        },
        {
          "output_type": "display_data",
          "data": {
            "text/plain": [
              "<Figure size 720x360 with 1 Axes>"
            ],
            "image/png": "[encoded data removed]"
          },
          "metadata": {
            "tags": [],
            "needs_background": "light"
          }
        }
      ]
    }
  ]
}